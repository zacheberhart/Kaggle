{
 "cells": [
  {
   "cell_type": "code",
   "execution_count": 1,
   "metadata": {},
   "outputs": [
    {
     "name": "stdout",
     "output_type": "stream",
     "text": [
      "/Users/zach-eberhart/Desktop/kaggle/notebooks/ga_revenue\r\n"
     ]
    }
   ],
   "source": [
    "import os\n",
    "import json\n",
    "import pandas as pd\n",
    "import numpy as np\n",
    "import matplotlib.pyplot as plt\n",
    "from copy import deepcopy\n",
    "from random import randint\n",
    "\n",
    "import pytz\n",
    "import datetime\n",
    "from datetime import datetime, timedelta\n",
    "from geopy import geocoders\n",
    "from tzwhere import tzwhere\n",
    "from pytz import timezone\n",
    "from time import sleep\n",
    "\n",
    "%matplotlib inline\n",
    "%reload_ext autoreload\n",
    "%autoreload 2\n",
    "\n",
    "# set path\n",
    "PATH = '../../data/ga_revenue/city_country_data/'\n",
    "! pwd"
   ]
  },
  {
   "cell_type": "markdown",
   "metadata": {},
   "source": [
    "# Merge All City, Country Data (w/ Country Codes)\n",
    "## Read in Data"
   ]
  },
  {
   "cell_type": "code",
   "execution_count": 2,
   "metadata": {},
   "outputs": [
    {
     "name": "stderr",
     "output_type": "stream",
     "text": [
      "/anaconda3/lib/python3.6/site-packages/IPython/core/interactiveshell.py:2785: DtypeWarning: Columns (3) have mixed types. Specify dtype option on import or set low_memory=False.\n",
      "  interactivity=interactivity, compiler=compiler, result=result)\n"
     ]
    }
   ],
   "source": [
    "country_codes = pd.read_csv(PATH+'country_codes.csv', header = None)\n",
    "country_codes.columns = ['country', 'code']\n",
    "wc1 = pd.read_csv(PATH+'world_cities.csv', encoding = \"ISO-8859-1\")\n",
    "wc2 = pd.read_csv(PATH+'world_cities_2.csv')\n",
    "wc3 = pd.read_csv(PATH+'world_cities_3.csv')\n",
    "wc4 = pd.read_csv(PATH+'world_cities_4.csv')"
   ]
  },
  {
   "cell_type": "code",
   "execution_count": 3,
   "metadata": {},
   "outputs": [
    {
     "data": {
      "text/html": [
       "<div>\n",
       "<style scoped>\n",
       "    .dataframe tbody tr th:only-of-type {\n",
       "        vertical-align: middle;\n",
       "    }\n",
       "\n",
       "    .dataframe tbody tr th {\n",
       "        vertical-align: top;\n",
       "    }\n",
       "\n",
       "    .dataframe thead th {\n",
       "        text-align: right;\n",
       "    }\n",
       "</style>\n",
       "<table border=\"1\" class=\"dataframe\">\n",
       "  <thead>\n",
       "    <tr style=\"text-align: right;\">\n",
       "      <th></th>\n",
       "      <th>country</th>\n",
       "      <th>code</th>\n",
       "    </tr>\n",
       "  </thead>\n",
       "  <tbody>\n",
       "    <tr>\n",
       "      <th>0</th>\n",
       "      <td>Afghanistan</td>\n",
       "      <td>AF</td>\n",
       "    </tr>\n",
       "    <tr>\n",
       "      <th>1</th>\n",
       "      <td>Ã…land Islands</td>\n",
       "      <td>AX</td>\n",
       "    </tr>\n",
       "    <tr>\n",
       "      <th>2</th>\n",
       "      <td>Albania</td>\n",
       "      <td>AL</td>\n",
       "    </tr>\n",
       "  </tbody>\n",
       "</table>\n",
       "</div>"
      ],
      "text/plain": [
       "          country code\n",
       "0     Afghanistan   AF\n",
       "1  Ã…land Islands   AX\n",
       "2         Albania   AL"
      ]
     },
     "execution_count": 3,
     "metadata": {},
     "output_type": "execute_result"
    }
   ],
   "source": [
    "country_codes.head(3)"
   ]
  },
  {
   "cell_type": "code",
   "execution_count": 4,
   "metadata": {},
   "outputs": [
    {
     "name": "stdout",
     "output_type": "stream",
     "text": [
      "Shape: (3173958, 7)\n"
     ]
    },
    {
     "data": {
      "text/html": [
       "<div>\n",
       "<style scoped>\n",
       "    .dataframe tbody tr th:only-of-type {\n",
       "        vertical-align: middle;\n",
       "    }\n",
       "\n",
       "    .dataframe tbody tr th {\n",
       "        vertical-align: top;\n",
       "    }\n",
       "\n",
       "    .dataframe thead th {\n",
       "        text-align: right;\n",
       "    }\n",
       "</style>\n",
       "<table border=\"1\" class=\"dataframe\">\n",
       "  <thead>\n",
       "    <tr style=\"text-align: right;\">\n",
       "      <th></th>\n",
       "      <th>Country</th>\n",
       "      <th>City</th>\n",
       "      <th>AccentCity</th>\n",
       "      <th>Region</th>\n",
       "      <th>Population</th>\n",
       "      <th>Latitude</th>\n",
       "      <th>Longitude</th>\n",
       "    </tr>\n",
       "  </thead>\n",
       "  <tbody>\n",
       "    <tr>\n",
       "      <th>0</th>\n",
       "      <td>ad</td>\n",
       "      <td>aixas</td>\n",
       "      <td>Aixàs</td>\n",
       "      <td>6</td>\n",
       "      <td>NaN</td>\n",
       "      <td>42.483333</td>\n",
       "      <td>1.466667</td>\n",
       "    </tr>\n",
       "    <tr>\n",
       "      <th>1</th>\n",
       "      <td>ad</td>\n",
       "      <td>aixirivali</td>\n",
       "      <td>Aixirivali</td>\n",
       "      <td>6</td>\n",
       "      <td>NaN</td>\n",
       "      <td>42.466667</td>\n",
       "      <td>1.500000</td>\n",
       "    </tr>\n",
       "    <tr>\n",
       "      <th>2</th>\n",
       "      <td>ad</td>\n",
       "      <td>aixirivall</td>\n",
       "      <td>Aixirivall</td>\n",
       "      <td>6</td>\n",
       "      <td>NaN</td>\n",
       "      <td>42.466667</td>\n",
       "      <td>1.500000</td>\n",
       "    </tr>\n",
       "  </tbody>\n",
       "</table>\n",
       "</div>"
      ],
      "text/plain": [
       "  Country        City  AccentCity Region  Population   Latitude  Longitude\n",
       "0      ad       aixas       Aixàs      6         NaN  42.483333   1.466667\n",
       "1      ad  aixirivali  Aixirivali      6         NaN  42.466667   1.500000\n",
       "2      ad  aixirivall  Aixirivall      6         NaN  42.466667   1.500000"
      ]
     },
     "execution_count": 4,
     "metadata": {},
     "output_type": "execute_result"
    }
   ],
   "source": [
    "print('Shape:', wc1.shape)\n",
    "wc1.head(3)"
   ]
  },
  {
   "cell_type": "code",
   "execution_count": 5,
   "metadata": {},
   "outputs": [
    {
     "name": "stdout",
     "output_type": "stream",
     "text": [
      "Shape: (23018, 4)\n"
     ]
    },
    {
     "data": {
      "text/html": [
       "<div>\n",
       "<style scoped>\n",
       "    .dataframe tbody tr th:only-of-type {\n",
       "        vertical-align: middle;\n",
       "    }\n",
       "\n",
       "    .dataframe tbody tr th {\n",
       "        vertical-align: top;\n",
       "    }\n",
       "\n",
       "    .dataframe thead th {\n",
       "        text-align: right;\n",
       "    }\n",
       "</style>\n",
       "<table border=\"1\" class=\"dataframe\">\n",
       "  <thead>\n",
       "    <tr style=\"text-align: right;\">\n",
       "      <th></th>\n",
       "      <th>name</th>\n",
       "      <th>country</th>\n",
       "      <th>subcountry</th>\n",
       "      <th>geonameid</th>\n",
       "    </tr>\n",
       "  </thead>\n",
       "  <tbody>\n",
       "    <tr>\n",
       "      <th>0</th>\n",
       "      <td>les Escaldes</td>\n",
       "      <td>Andorra</td>\n",
       "      <td>Escaldes-Engordany</td>\n",
       "      <td>3040051</td>\n",
       "    </tr>\n",
       "    <tr>\n",
       "      <th>1</th>\n",
       "      <td>Andorra la Vella</td>\n",
       "      <td>Andorra</td>\n",
       "      <td>Andorra la Vella</td>\n",
       "      <td>3041563</td>\n",
       "    </tr>\n",
       "    <tr>\n",
       "      <th>2</th>\n",
       "      <td>Umm al Qaywayn</td>\n",
       "      <td>United Arab Emirates</td>\n",
       "      <td>Umm al Qaywayn</td>\n",
       "      <td>290594</td>\n",
       "    </tr>\n",
       "  </tbody>\n",
       "</table>\n",
       "</div>"
      ],
      "text/plain": [
       "               name               country          subcountry  geonameid\n",
       "0      les Escaldes               Andorra  Escaldes-Engordany    3040051\n",
       "1  Andorra la Vella               Andorra    Andorra la Vella    3041563\n",
       "2    Umm al Qaywayn  United Arab Emirates      Umm al Qaywayn     290594"
      ]
     },
     "execution_count": 5,
     "metadata": {},
     "output_type": "execute_result"
    }
   ],
   "source": [
    "print('Shape:', wc2.shape)\n",
    "wc2.head(3)"
   ]
  },
  {
   "cell_type": "code",
   "execution_count": 6,
   "metadata": {},
   "outputs": [
    {
     "name": "stdout",
     "output_type": "stream",
     "text": [
      "Shape: (12893, 11)\n"
     ]
    },
    {
     "data": {
      "text/html": [
       "<div>\n",
       "<style scoped>\n",
       "    .dataframe tbody tr th:only-of-type {\n",
       "        vertical-align: middle;\n",
       "    }\n",
       "\n",
       "    .dataframe tbody tr th {\n",
       "        vertical-align: top;\n",
       "    }\n",
       "\n",
       "    .dataframe thead th {\n",
       "        text-align: right;\n",
       "    }\n",
       "</style>\n",
       "<table border=\"1\" class=\"dataframe\">\n",
       "  <thead>\n",
       "    <tr style=\"text-align: right;\">\n",
       "      <th></th>\n",
       "      <th>city</th>\n",
       "      <th>city_ascii</th>\n",
       "      <th>lat</th>\n",
       "      <th>lng</th>\n",
       "      <th>country</th>\n",
       "      <th>iso2</th>\n",
       "      <th>iso3</th>\n",
       "      <th>admin_name</th>\n",
       "      <th>capital</th>\n",
       "      <th>population</th>\n",
       "      <th>id</th>\n",
       "    </tr>\n",
       "  </thead>\n",
       "  <tbody>\n",
       "    <tr>\n",
       "      <th>0</th>\n",
       "      <td>Malishevë</td>\n",
       "      <td>Malisheve</td>\n",
       "      <td>42.4822</td>\n",
       "      <td>20.7458</td>\n",
       "      <td>Kosovo</td>\n",
       "      <td>XK</td>\n",
       "      <td>XKS</td>\n",
       "      <td>Malishevë</td>\n",
       "      <td>admin</td>\n",
       "      <td>NaN</td>\n",
       "      <td>1901597212</td>\n",
       "    </tr>\n",
       "    <tr>\n",
       "      <th>1</th>\n",
       "      <td>Prizren</td>\n",
       "      <td>Prizren</td>\n",
       "      <td>42.2139</td>\n",
       "      <td>20.7397</td>\n",
       "      <td>Kosovo</td>\n",
       "      <td>XK</td>\n",
       "      <td>XKS</td>\n",
       "      <td>Prizren</td>\n",
       "      <td>admin</td>\n",
       "      <td>NaN</td>\n",
       "      <td>1901360309</td>\n",
       "    </tr>\n",
       "    <tr>\n",
       "      <th>2</th>\n",
       "      <td>Zubin Potok</td>\n",
       "      <td>Zubin Potok</td>\n",
       "      <td>42.9144</td>\n",
       "      <td>20.6897</td>\n",
       "      <td>Kosovo</td>\n",
       "      <td>XK</td>\n",
       "      <td>XKS</td>\n",
       "      <td>Zubin Potok</td>\n",
       "      <td>admin</td>\n",
       "      <td>NaN</td>\n",
       "      <td>1901608808</td>\n",
       "    </tr>\n",
       "  </tbody>\n",
       "</table>\n",
       "</div>"
      ],
      "text/plain": [
       "          city   city_ascii      lat      lng country iso2 iso3   admin_name  \\\n",
       "0    Malishevë    Malisheve  42.4822  20.7458  Kosovo   XK  XKS    Malishevë   \n",
       "1      Prizren      Prizren  42.2139  20.7397  Kosovo   XK  XKS      Prizren   \n",
       "2  Zubin Potok  Zubin Potok  42.9144  20.6897  Kosovo   XK  XKS  Zubin Potok   \n",
       "\n",
       "  capital  population          id  \n",
       "0   admin         NaN  1901597212  \n",
       "1   admin         NaN  1901360309  \n",
       "2   admin         NaN  1901608808  "
      ]
     },
     "execution_count": 6,
     "metadata": {},
     "output_type": "execute_result"
    }
   ],
   "source": [
    "print('Shape:', wc3.shape)\n",
    "wc3.head(3)"
   ]
  },
  {
   "cell_type": "code",
   "execution_count": 7,
   "metadata": {},
   "outputs": [
    {
     "name": "stdout",
     "output_type": "stream",
     "text": [
      "Shape: (23018, 4)\n"
     ]
    },
    {
     "data": {
      "text/html": [
       "<div>\n",
       "<style scoped>\n",
       "    .dataframe tbody tr th:only-of-type {\n",
       "        vertical-align: middle;\n",
       "    }\n",
       "\n",
       "    .dataframe tbody tr th {\n",
       "        vertical-align: top;\n",
       "    }\n",
       "\n",
       "    .dataframe thead th {\n",
       "        text-align: right;\n",
       "    }\n",
       "</style>\n",
       "<table border=\"1\" class=\"dataframe\">\n",
       "  <thead>\n",
       "    <tr style=\"text-align: right;\">\n",
       "      <th></th>\n",
       "      <th>name</th>\n",
       "      <th>country</th>\n",
       "      <th>subcountry</th>\n",
       "      <th>geonameid</th>\n",
       "    </tr>\n",
       "  </thead>\n",
       "  <tbody>\n",
       "    <tr>\n",
       "      <th>0</th>\n",
       "      <td>les Escaldes</td>\n",
       "      <td>Andorra</td>\n",
       "      <td>Escaldes-Engordany</td>\n",
       "      <td>3040051</td>\n",
       "    </tr>\n",
       "    <tr>\n",
       "      <th>1</th>\n",
       "      <td>Andorra la Vella</td>\n",
       "      <td>Andorra</td>\n",
       "      <td>Andorra la Vella</td>\n",
       "      <td>3041563</td>\n",
       "    </tr>\n",
       "    <tr>\n",
       "      <th>2</th>\n",
       "      <td>Umm al Qaywayn</td>\n",
       "      <td>United Arab Emirates</td>\n",
       "      <td>Umm al Qaywayn</td>\n",
       "      <td>290594</td>\n",
       "    </tr>\n",
       "  </tbody>\n",
       "</table>\n",
       "</div>"
      ],
      "text/plain": [
       "               name               country          subcountry  geonameid\n",
       "0      les Escaldes               Andorra  Escaldes-Engordany    3040051\n",
       "1  Andorra la Vella               Andorra    Andorra la Vella    3041563\n",
       "2    Umm al Qaywayn  United Arab Emirates      Umm al Qaywayn     290594"
      ]
     },
     "execution_count": 7,
     "metadata": {},
     "output_type": "execute_result"
    }
   ],
   "source": [
    "print('Shape:', wc4.shape)\n",
    "wc4.head(3)"
   ]
  },
  {
   "cell_type": "markdown",
   "metadata": {},
   "source": [
    "## Clean & Merge"
   ]
  },
  {
   "cell_type": "code",
   "execution_count": 8,
   "metadata": {},
   "outputs": [],
   "source": [
    "# pull out the country codes from wc3 and append to the current country code list\n",
    "# to catch any missing countries (or different spellings)\n",
    "wc3_codes = wc3[['country', 'iso2']].drop_duplicates().reset_index(drop = True)\n",
    "wc3_codes.columns = ['country', 'code']\n",
    "country_codes = country_codes.append(wc3_codes).astype(str).drop_duplicates().sort_values('country').copy()\n",
    "\n",
    "# convert all to lower case for easier merging\n",
    "for c in country_codes.columns:\n",
    "    country_codes[c] = country_codes[c].apply(lambda x: x.lower())\n",
    "country_codes = country_codes.drop_duplicates().reset_index(drop = True).copy()\n",
    "\n",
    "# manually add two missing countries\n",
    "country_codes = country_codes.append(pd.DataFrame([{'country': 'namibia', 'code': 'na'},\n",
    "                                                   {'country': 'netherlands antilles', 'code': 'an'}]\n",
    "                                                 ), sort = True).reset_index(drop = True).copy()"
   ]
  },
  {
   "cell_type": "code",
   "execution_count": 9,
   "metadata": {},
   "outputs": [
    {
     "name": "stdout",
     "output_type": "stream",
     "text": [
      "(307, 2)\n"
     ]
    },
    {
     "data": {
      "text/html": [
       "<div>\n",
       "<style scoped>\n",
       "    .dataframe tbody tr th:only-of-type {\n",
       "        vertical-align: middle;\n",
       "    }\n",
       "\n",
       "    .dataframe tbody tr th {\n",
       "        vertical-align: top;\n",
       "    }\n",
       "\n",
       "    .dataframe thead th {\n",
       "        text-align: right;\n",
       "    }\n",
       "</style>\n",
       "<table border=\"1\" class=\"dataframe\">\n",
       "  <thead>\n",
       "    <tr style=\"text-align: right;\">\n",
       "      <th></th>\n",
       "      <th>code</th>\n",
       "      <th>country</th>\n",
       "    </tr>\n",
       "  </thead>\n",
       "  <tbody>\n",
       "    <tr>\n",
       "      <th>0</th>\n",
       "      <td>af</td>\n",
       "      <td>afghanistan</td>\n",
       "    </tr>\n",
       "    <tr>\n",
       "      <th>1</th>\n",
       "      <td>al</td>\n",
       "      <td>albania</td>\n",
       "    </tr>\n",
       "    <tr>\n",
       "      <th>2</th>\n",
       "      <td>dz</td>\n",
       "      <td>algeria</td>\n",
       "    </tr>\n",
       "  </tbody>\n",
       "</table>\n",
       "</div>"
      ],
      "text/plain": [
       "  code      country\n",
       "0   af  afghanistan\n",
       "1   al      albania\n",
       "2   dz      algeria"
      ]
     },
     "execution_count": 9,
     "metadata": {},
     "output_type": "execute_result"
    }
   ],
   "source": [
    "print(country_codes.shape)\n",
    "country_codes.head(3)"
   ]
  },
  {
   "cell_type": "code",
   "execution_count": 10,
   "metadata": {},
   "outputs": [],
   "source": [
    "# add country names (not just codes) to wc1\n",
    "wc1 = wc1[['Country', 'City']].append(wc1[['Country', 'AccentCity']].rename(columns = {'AccentCity': 'City'})).drop_duplicates().reset_index(drop = True).copy()\n",
    "wc1.columns = ['code', 'city']\n",
    "wc1 = wc1.merge(country_codes, on = 'code', how = 'left').dropna().reset_index(drop = True).copy()"
   ]
  },
  {
   "cell_type": "code",
   "execution_count": 23,
   "metadata": {},
   "outputs": [
    {
     "data": {
      "text/html": [
       "<div>\n",
       "<style scoped>\n",
       "    .dataframe tbody tr th:only-of-type {\n",
       "        vertical-align: middle;\n",
       "    }\n",
       "\n",
       "    .dataframe tbody tr th {\n",
       "        vertical-align: top;\n",
       "    }\n",
       "\n",
       "    .dataframe thead th {\n",
       "        text-align: right;\n",
       "    }\n",
       "</style>\n",
       "<table border=\"1\" class=\"dataframe\">\n",
       "  <thead>\n",
       "    <tr style=\"text-align: right;\">\n",
       "      <th></th>\n",
       "      <th>code</th>\n",
       "      <th>city</th>\n",
       "      <th>country</th>\n",
       "    </tr>\n",
       "  </thead>\n",
       "  <tbody>\n",
       "    <tr>\n",
       "      <th>0</th>\n",
       "      <td>ad</td>\n",
       "      <td>aixas</td>\n",
       "      <td>andorra</td>\n",
       "    </tr>\n",
       "    <tr>\n",
       "      <th>1</th>\n",
       "      <td>ad</td>\n",
       "      <td>aixirivali</td>\n",
       "      <td>andorra</td>\n",
       "    </tr>\n",
       "    <tr>\n",
       "      <th>2</th>\n",
       "      <td>ad</td>\n",
       "      <td>aixirivall</td>\n",
       "      <td>andorra</td>\n",
       "    </tr>\n",
       "  </tbody>\n",
       "</table>\n",
       "</div>"
      ],
      "text/plain": [
       "  code        city  country\n",
       "0   ad       aixas  andorra\n",
       "1   ad  aixirivali  andorra\n",
       "2   ad  aixirivall  andorra"
      ]
     },
     "execution_count": 23,
     "metadata": {},
     "output_type": "execute_result"
    }
   ],
   "source": [
    "wc1.head(3)"
   ]
  },
  {
   "cell_type": "code",
   "execution_count": 20,
   "metadata": {},
   "outputs": [],
   "source": [
    "wc2 = wc2[['name', 'country']].copy()\n",
    "for c in wc2.columns:\n",
    "    wc2[c] = wc2[c].astype(str).apply(lambda x: x.lower())\n",
    "wc2.columns = ['city', 'country']"
   ]
  },
  {
   "cell_type": "code",
   "execution_count": 26,
   "metadata": {},
   "outputs": [
    {
     "data": {
      "text/html": [
       "<div>\n",
       "<style scoped>\n",
       "    .dataframe tbody tr th:only-of-type {\n",
       "        vertical-align: middle;\n",
       "    }\n",
       "\n",
       "    .dataframe tbody tr th {\n",
       "        vertical-align: top;\n",
       "    }\n",
       "\n",
       "    .dataframe thead th {\n",
       "        text-align: right;\n",
       "    }\n",
       "</style>\n",
       "<table border=\"1\" class=\"dataframe\">\n",
       "  <thead>\n",
       "    <tr style=\"text-align: right;\">\n",
       "      <th></th>\n",
       "      <th>city</th>\n",
       "      <th>country</th>\n",
       "    </tr>\n",
       "  </thead>\n",
       "  <tbody>\n",
       "    <tr>\n",
       "      <th>0</th>\n",
       "      <td>les escaldes</td>\n",
       "      <td>andorra</td>\n",
       "    </tr>\n",
       "    <tr>\n",
       "      <th>1</th>\n",
       "      <td>andorra la vella</td>\n",
       "      <td>andorra</td>\n",
       "    </tr>\n",
       "    <tr>\n",
       "      <th>2</th>\n",
       "      <td>umm al qaywayn</td>\n",
       "      <td>united arab emirates</td>\n",
       "    </tr>\n",
       "  </tbody>\n",
       "</table>\n",
       "</div>"
      ],
      "text/plain": [
       "               city               country\n",
       "0      les escaldes               andorra\n",
       "1  andorra la vella               andorra\n",
       "2    umm al qaywayn  united arab emirates"
      ]
     },
     "execution_count": 26,
     "metadata": {},
     "output_type": "execute_result"
    }
   ],
   "source": [
    "wc2.head(3)"
   ]
  },
  {
   "cell_type": "code",
   "execution_count": 30,
   "metadata": {},
   "outputs": [],
   "source": [
    "wc3 = wc3[['city', 'country']].append(wc3[['city_ascii', 'country']].rename(columns = {'city_ascii': 'city'})).drop_duplicates().reset_index(drop = True).copy()\n",
    "\n",
    "for c in wc3.columns:\n",
    "    wc3[c] = wc3[c].astype(str).apply(lambda x: x.lower())"
   ]
  },
  {
   "cell_type": "code",
   "execution_count": 35,
   "metadata": {},
   "outputs": [
    {
     "data": {
      "text/html": [
       "<div>\n",
       "<style scoped>\n",
       "    .dataframe tbody tr th:only-of-type {\n",
       "        vertical-align: middle;\n",
       "    }\n",
       "\n",
       "    .dataframe tbody tr th {\n",
       "        vertical-align: top;\n",
       "    }\n",
       "\n",
       "    .dataframe thead th {\n",
       "        text-align: right;\n",
       "    }\n",
       "</style>\n",
       "<table border=\"1\" class=\"dataframe\">\n",
       "  <thead>\n",
       "    <tr style=\"text-align: right;\">\n",
       "      <th></th>\n",
       "      <th>city</th>\n",
       "      <th>country</th>\n",
       "    </tr>\n",
       "  </thead>\n",
       "  <tbody>\n",
       "    <tr>\n",
       "      <th>0</th>\n",
       "      <td>malishevë</td>\n",
       "      <td>kosovo</td>\n",
       "    </tr>\n",
       "    <tr>\n",
       "      <th>1</th>\n",
       "      <td>prizren</td>\n",
       "      <td>kosovo</td>\n",
       "    </tr>\n",
       "    <tr>\n",
       "      <th>2</th>\n",
       "      <td>zubin potok</td>\n",
       "      <td>kosovo</td>\n",
       "    </tr>\n",
       "  </tbody>\n",
       "</table>\n",
       "</div>"
      ],
      "text/plain": [
       "          city country\n",
       "0    malishevë  kosovo\n",
       "1      prizren  kosovo\n",
       "2  zubin potok  kosovo"
      ]
     },
     "execution_count": 35,
     "metadata": {},
     "output_type": "execute_result"
    }
   ],
   "source": [
    "wc3.head(3)"
   ]
  },
  {
   "cell_type": "code",
   "execution_count": 36,
   "metadata": {},
   "outputs": [],
   "source": [
    "wc4 = wc4[['name', 'country']].copy()\n",
    "for c in wc4.columns:\n",
    "    wc4[c] = wc4[c].astype(str).apply(lambda x: x.lower())\n",
    "wc4.columns = ['city', 'country']"
   ]
  },
  {
   "cell_type": "code",
   "execution_count": 37,
   "metadata": {},
   "outputs": [
    {
     "data": {
      "text/html": [
       "<div>\n",
       "<style scoped>\n",
       "    .dataframe tbody tr th:only-of-type {\n",
       "        vertical-align: middle;\n",
       "    }\n",
       "\n",
       "    .dataframe tbody tr th {\n",
       "        vertical-align: top;\n",
       "    }\n",
       "\n",
       "    .dataframe thead th {\n",
       "        text-align: right;\n",
       "    }\n",
       "</style>\n",
       "<table border=\"1\" class=\"dataframe\">\n",
       "  <thead>\n",
       "    <tr style=\"text-align: right;\">\n",
       "      <th></th>\n",
       "      <th>city</th>\n",
       "      <th>country</th>\n",
       "    </tr>\n",
       "  </thead>\n",
       "  <tbody>\n",
       "    <tr>\n",
       "      <th>0</th>\n",
       "      <td>les escaldes</td>\n",
       "      <td>andorra</td>\n",
       "    </tr>\n",
       "    <tr>\n",
       "      <th>1</th>\n",
       "      <td>andorra la vella</td>\n",
       "      <td>andorra</td>\n",
       "    </tr>\n",
       "    <tr>\n",
       "      <th>2</th>\n",
       "      <td>umm al qaywayn</td>\n",
       "      <td>united arab emirates</td>\n",
       "    </tr>\n",
       "  </tbody>\n",
       "</table>\n",
       "</div>"
      ],
      "text/plain": [
       "               city               country\n",
       "0      les escaldes               andorra\n",
       "1  andorra la vella               andorra\n",
       "2    umm al qaywayn  united arab emirates"
      ]
     },
     "execution_count": 37,
     "metadata": {},
     "output_type": "execute_result"
    }
   ],
   "source": [
    "wc4.head(3)"
   ]
  },
  {
   "cell_type": "code",
   "execution_count": 39,
   "metadata": {},
   "outputs": [],
   "source": [
    "select_cols = ['city', 'country']\n",
    "\n",
    "wcm = wc1[select_cols].append(wc2[select_cols]).append(wc3[select_cols]).append(wc4[select_cols]).drop_duplicates().reset_index(drop = True)"
   ]
  },
  {
   "cell_type": "code",
   "execution_count": 57,
   "metadata": {},
   "outputs": [],
   "source": [
    "wcm['city'] = wcm['city'].str.strip().copy()\n",
    "wcm['country'] = wcm['country'].str.strip().copy()\n",
    "wcm = wcm.drop_duplicates().reset_index(drop = True)"
   ]
  },
  {
   "cell_type": "code",
   "execution_count": 58,
   "metadata": {},
   "outputs": [
    {
     "name": "stdout",
     "output_type": "stream",
     "text": [
      "(6446302, 2)\n"
     ]
    },
    {
     "data": {
      "text/html": [
       "<div>\n",
       "<style scoped>\n",
       "    .dataframe tbody tr th:only-of-type {\n",
       "        vertical-align: middle;\n",
       "    }\n",
       "\n",
       "    .dataframe tbody tr th {\n",
       "        vertical-align: top;\n",
       "    }\n",
       "\n",
       "    .dataframe thead th {\n",
       "        text-align: right;\n",
       "    }\n",
       "</style>\n",
       "<table border=\"1\" class=\"dataframe\">\n",
       "  <thead>\n",
       "    <tr style=\"text-align: right;\">\n",
       "      <th></th>\n",
       "      <th>city</th>\n",
       "      <th>country</th>\n",
       "    </tr>\n",
       "  </thead>\n",
       "  <tbody>\n",
       "    <tr>\n",
       "      <th>0</th>\n",
       "      <td>aixas</td>\n",
       "      <td>andorra</td>\n",
       "    </tr>\n",
       "    <tr>\n",
       "      <th>1</th>\n",
       "      <td>aixirivali</td>\n",
       "      <td>andorra</td>\n",
       "    </tr>\n",
       "    <tr>\n",
       "      <th>2</th>\n",
       "      <td>aixirivall</td>\n",
       "      <td>andorra</td>\n",
       "    </tr>\n",
       "  </tbody>\n",
       "</table>\n",
       "</div>"
      ],
      "text/plain": [
       "         city  country\n",
       "0       aixas  andorra\n",
       "1  aixirivali  andorra\n",
       "2  aixirivall  andorra"
      ]
     },
     "execution_count": 58,
     "metadata": {},
     "output_type": "execute_result"
    }
   ],
   "source": [
    "print(wcm.shape)\n",
    "wcm.head(3)"
   ]
  },
  {
   "cell_type": "markdown",
   "metadata": {},
   "source": [
    "## Add final list of country codes"
   ]
  },
  {
   "cell_type": "code",
   "execution_count": 88,
   "metadata": {},
   "outputs": [],
   "source": [
    "missing_country_codes = {\n",
    "    'aland islands': 'ax',\n",
    "    'bonaire, saint eustatius and saba': 'bq',\n",
    "    'cocos islands': 'cc',\n",
    "    'democratic republic of the congo': 'cd',\n",
    "    'republic of the congo': 'cg',\n",
    "    'ivory coast': 'ci',\n",
    "    'curacao': 'cw',\n",
    "    'falkland islands': 'fk',\n",
    "    'micronesia': 'fm',\n",
    "    'north korea': 'kp',\n",
    "    'palestinian territory': 'ps',\n",
    "    'saint helena': 'sh',\n",
    "    'east timor': 'tl',\n",
    "    'vatican': 'va'\n",
    "}\n",
    "\n",
    "# append missing country codes to the full country code df\n",
    "mcc = pd.DataFrame(pd.Series(missing_country_codes))\n",
    "mcc['country'] = mcc.index\n",
    "mcc.reset_index(drop = True, inplace = True)\n",
    "mcc.columns = ['code', 'country']\n",
    "country_codes = country_codes.append(mcc).reset_index(drop = True).copy()\n",
    "\n",
    "# filter down to codes (orig used to check for missing) and merge to full df\n",
    "jc = pd.DataFrame(wcm.country.drop_duplicates().reset_index(drop = True))\n",
    "jc = jc.merge(country_codes, on = 'country', how = 'left').copy()\n",
    "\n",
    "# final merge with country codes, drop dups\n",
    "wcm = deepcopy(wcm.merge(jc, on = 'country', how = 'left'))\n",
    "wcm = wcm.drop_duplicates().reset_index(drop = True)\n",
    "wcm = deepcopy(wcm.dropna().astype(str))"
   ]
  },
  {
   "cell_type": "code",
   "execution_count": null,
   "metadata": {},
   "outputs": [],
   "source": []
  },
  {
   "cell_type": "markdown",
   "metadata": {},
   "source": [
    "## Export"
   ]
  },
  {
   "cell_type": "code",
   "execution_count": 109,
   "metadata": {},
   "outputs": [],
   "source": [
    "# # write to feather\n",
    "# wcm.to_feather(PATH+'world_cities_merged')"
   ]
  },
  {
   "cell_type": "code",
   "execution_count": null,
   "metadata": {},
   "outputs": [],
   "source": []
  },
  {
   "cell_type": "code",
   "execution_count": null,
   "metadata": {},
   "outputs": [],
   "source": []
  },
  {
   "cell_type": "code",
   "execution_count": null,
   "metadata": {},
   "outputs": [],
   "source": []
  }
 ],
 "metadata": {
  "kernelspec": {
   "display_name": "Python 3",
   "language": "python",
   "name": "python3"
  },
  "language_info": {
   "codemirror_mode": {
    "name": "ipython",
    "version": 3
   },
   "file_extension": ".py",
   "mimetype": "text/x-python",
   "name": "python",
   "nbconvert_exporter": "python",
   "pygments_lexer": "ipython3",
   "version": "3.6.5"
  }
 },
 "nbformat": 4,
 "nbformat_minor": 2
}
