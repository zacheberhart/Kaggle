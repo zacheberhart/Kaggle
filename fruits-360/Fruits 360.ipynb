{
 "cells": [
  {
   "cell_type": "code",
   "execution_count": 1,
   "metadata": {},
   "outputs": [],
   "source": [
    "import pandas as pd\n",
    "import matplotlib.pyplot as plt\n",
    "from collections import OrderedDict\n",
    "\n",
    "import torch\n",
    "from torch import nn\n",
    "from torch import optim\n",
    "import torch.nn.functional as F\n",
    "from torch.autograd import Variable\n",
    "from torchvision import datasets, transforms, models\n",
    "import local_helper\n",
    "\n",
    "%matplotlib inline"
   ]
  },
  {
   "cell_type": "markdown",
   "metadata": {},
   "source": [
    "# Fruits 360 w/ PyTorch and FastAI"
   ]
  },
  {
   "cell_type": "code",
   "execution_count": 2,
   "metadata": {},
   "outputs": [],
   "source": [
    "# load data\n",
    "img_size = 224\n",
    "\n",
    "# local\n",
    "#train_dir = '../data/fruits/data/train/'\n",
    "#test_dir = '../data/fruits/data/test/'\n",
    "\n",
    "# floyd\n",
    "train_dir = '../input/fruits/training/'\n",
    "test_dir = '../input/fruits/test/'\n",
    "\n",
    "train_transforms = transforms.Compose([\n",
    "    \n",
    "    # resize image\n",
    "    transforms.Resize(img_size),\n",
    "    transforms.CenterCrop(img_size),\n",
    "    \n",
    "    # augment\n",
    "    #transforms.RandomRotation(45),\n",
    "    #transforms.RandomResizedCrop(img_size),\n",
    "    transforms.RandomHorizontalFlip(),\n",
    "    transforms.RandomVerticalFlip(),\n",
    "    \n",
    "    # convert to tensor and normalize\n",
    "    transforms.ToTensor(),\n",
    "    #transforms.Normalize([0.5, 0.5, 0.5], [0.5, 0.5, 0.5])\n",
    "    transforms.Normalize([0.485, 0.456, 0.406], [0.229, 0.224, 0.225])\n",
    "])\n",
    "\n",
    "test_transforms = transforms.Compose([\n",
    "    \n",
    "    # resize image\n",
    "    transforms.Resize(img_size),\n",
    "    transforms.CenterCrop(img_size),\n",
    "    \n",
    "    # convert to tensor and normalize\n",
    "    transforms.ToTensor(),\n",
    "    #transforms.Normalize([0.5, 0.5, 0.5], [0.5, 0.5, 0.5])\n",
    "    transforms.Normalize([0.485, 0.456, 0.406], [0.229, 0.224, 0.225])\n",
    "\n",
    "])\n",
    "\n",
    "train = datasets.ImageFolder(root = train_dir, transform = train_transforms)\n",
    "test = datasets.ImageFolder(root = test_dir, transform = test_transforms)"
   ]
  },
  {
   "cell_type": "code",
   "execution_count": 16,
   "metadata": {},
   "outputs": [
    {
     "data": {
      "text/plain": [
       "Dataset ImageFolder\n",
       "    Number of datapoints: 41322\n",
       "    Root Location: ../input/fruits/training/\n",
       "    Transforms (if any): Compose(\n",
       "                             Resize(size=224, interpolation=PIL.Image.BILINEAR)\n",
       "                             CenterCrop(size=(224, 224))\n",
       "                             RandomHorizontalFlip(p=0.5)\n",
       "                             RandomVerticalFlip(p=0.5)\n",
       "                             ToTensor()\n",
       "                             Normalize(mean=[0.485, 0.456, 0.406], std=[0.229, 0.224, 0.225])\n",
       "                         )\n",
       "    Target Transforms (if any): None"
      ]
     },
     "execution_count": 16,
     "metadata": {},
     "output_type": "execute_result"
    }
   ],
   "source": [
    "train"
   ]
  },
  {
   "cell_type": "code",
   "execution_count": 17,
   "metadata": {},
   "outputs": [
    {
     "data": {
      "text/plain": [
       "Dataset ImageFolder\n",
       "    Number of datapoints: 13877\n",
       "    Root Location: ../input/fruits/test/\n",
       "    Transforms (if any): Compose(\n",
       "                             Resize(size=224, interpolation=PIL.Image.BILINEAR)\n",
       "                             CenterCrop(size=(224, 224))\n",
       "                             ToTensor()\n",
       "                             Normalize(mean=[0.485, 0.456, 0.406], std=[0.229, 0.224, 0.225])\n",
       "                         )\n",
       "    Target Transforms (if any): None"
      ]
     },
     "execution_count": 17,
     "metadata": {},
     "output_type": "execute_result"
    }
   ],
   "source": [
    "test"
   ]
  },
  {
   "cell_type": "code",
   "execution_count": 18,
   "metadata": {},
   "outputs": [],
   "source": [
    "trainloader = torch.utils.data.DataLoader(dataset = train, batch_size = 64, shuffle = True)\n",
    "testloader = torch.utils.data.DataLoader(dataset = test, batch_size = 64, shuffle = True)"
   ]
  },
  {
   "cell_type": "code",
   "execution_count": 19,
   "metadata": {},
   "outputs": [
    {
     "name": "stderr",
     "output_type": "stream",
     "text": [
      "Clipping input data to the valid range for imshow with RGB data ([0..1] for floats or [0..255] for integers).\n"
     ]
    },
    {
     "data": {
      "image/png": "[encoded data removed]",
      "text/plain": [
       "<Figure size 432x288 with 1 Axes>"
      ]
     },
     "metadata": {},
     "output_type": "display_data"
    }
   ],
   "source": [
    "# Run this to test your data loader\n",
    "images, labels = next(iter(trainloader))\n",
    "local_helper.imshow(images[0], normalize=False);"
   ]
  },
  {
   "cell_type": "code",
   "execution_count": 20,
   "metadata": {},
   "outputs": [],
   "source": [
    "#model = models.densenet121(pretrained = True)\n",
    "model = models.resnet34(pretrained = True)\n",
    "#model"
   ]
  },
  {
   "cell_type": "code",
   "execution_count": 21,
   "metadata": {},
   "outputs": [
    {
     "data": {
      "text/plain": [
       "Linear(in_features=512, out_features=1000, bias=True)"
      ]
     },
     "execution_count": 21,
     "metadata": {},
     "output_type": "execute_result"
    }
   ],
   "source": [
    "# new final layer with 16 classes\n",
    "num_ftrs = model.fc.in_features\n",
    "\n",
    "model.fc"
   ]
  },
  {
   "cell_type": "code",
   "execution_count": 22,
   "metadata": {},
   "outputs": [],
   "source": [
    "# freeze the rest of the layers\n",
    "for param in model.parameters():\n",
    "    param.requires_grad = False"
   ]
  },
  {
   "cell_type": "code",
   "execution_count": 23,
   "metadata": {},
   "outputs": [],
   "source": [
    "# create new classifier for the fruits dataset\n",
    "classifier = nn.Sequential(\n",
    "    OrderedDict([\n",
    "        ('fc1', nn.Linear(num_ftrs, 256)),\n",
    "        ('relu', nn.ReLU()),\n",
    "        ('fc2', nn.Linear(256, 81)),\n",
    "        ('output', nn.Softmax(dim = 1))\n",
    "    ])\n",
    ")\n",
    "\n",
    "# add to pre-trained network\n",
    "model.fc = classifier"
   ]
  },
  {
   "cell_type": "code",
   "execution_count": 24,
   "metadata": {},
   "outputs": [],
   "source": [
    "criterion = nn.CrossEntropyLoss()\n",
    "#optimizer = optim.Adam(model.classifier.parameters(), lr = 0.001)\n",
    "optimizer = optim.Adam(model.fc.parameters(), lr = 0.001)"
   ]
  },
  {
   "cell_type": "code",
   "execution_count": 25,
   "metadata": {},
   "outputs": [
    {
     "data": {
      "text/plain": [
       "True"
      ]
     },
     "execution_count": 25,
     "metadata": {},
     "output_type": "execute_result"
    }
   ],
   "source": [
    "# at beginning of the script\n",
    "device = torch.device(\"cuda:0\" if torch.cuda.is_available() else \"cpu\")\n",
    "torch.cuda.is_available()"
   ]
  },
  {
   "cell_type": "code",
   "execution_count": 26,
   "metadata": {},
   "outputs": [],
   "source": [
    "# Implement a function for the validation pass\n",
    "def validation(model, testloader, criterion):\n",
    "    test_loss = 0\n",
    "    accuracy = 0\n",
    "    for inputs, labels in testloader:\n",
    "        \n",
    "        # Move input and label tensors to the GPU\n",
    "        inputs, labels = inputs.to(device), labels.to(device)\n",
    "        \n",
    "        # calc test loss\n",
    "        outputs = model(inputs)\n",
    "        test_loss += criterion(outputs, labels).item()\n",
    "        \n",
    "        # calc accuracy\n",
    "        ps = torch.argmax(outputs, dim=1)\n",
    "        equality = (labels.data == ps)\n",
    "        accuracy += equality.type(torch.cuda.FloatTensor).mean()\n",
    "    \n",
    "    return test_loss, accuracy"
   ]
  },
  {
   "cell_type": "code",
   "execution_count": 29,
   "metadata": {},
   "outputs": [
    {
     "name": "stdout",
     "output_type": "stream",
     "text": [
      "100\n",
      "200\n",
      "300\n",
      "400\n",
      "500\n",
      "600\n",
      "Epoch: 1/10..  Training Loss: 3.665..  Test Loss: 3.672..  Test Accuracy: 0.745\n",
      "100\n",
      "200\n",
      "300\n",
      "400\n",
      "500\n",
      "600\n",
      "Epoch: 2/10..  Training Loss: 3.663..  Test Loss: 3.671..  Test Accuracy: 0.746\n",
      "100\n",
      "200\n",
      "300\n",
      "400\n",
      "500\n",
      "600\n",
      "Epoch: 3/10..  Training Loss: 3.659..  Test Loss: 3.665..  Test Accuracy: 0.752\n",
      "100\n",
      "200\n",
      "300\n",
      "400\n",
      "500\n",
      "600\n",
      "Epoch: 4/10..  Training Loss: 3.653..  Test Loss: 3.660..  Test Accuracy: 0.756\n",
      "100\n",
      "200\n",
      "300\n",
      "400\n",
      "500\n",
      "600\n",
      "Epoch: 5/10..  Training Loss: 3.651..  Test Loss: 3.651..  Test Accuracy: 0.765\n",
      "100\n",
      "200\n",
      "300\n",
      "400\n",
      "500\n",
      "600\n",
      "Epoch: 6/10..  Training Loss: 3.635..  Test Loss: 3.626..  Test Accuracy: 0.790\n",
      "100\n",
      "200\n",
      "300\n",
      "400\n",
      "500\n",
      "600\n",
      "Epoch: 7/10..  Training Loss: 3.612..  Test Loss: 3.618..  Test Accuracy: 0.799\n",
      "100\n",
      "200\n",
      "300\n",
      "400\n",
      "500\n",
      "600\n",
      "Epoch: 8/10..  Training Loss: 3.607..  Test Loss: 3.612..  Test Accuracy: 0.804\n",
      "100\n",
      "200\n",
      "300\n",
      "400\n",
      "500\n",
      "600\n",
      "Epoch: 9/10..  Training Loss: 3.607..  Test Loss: 3.613..  Test Accuracy: 0.803\n",
      "100\n",
      "200\n",
      "300\n",
      "400\n",
      "500\n",
      "600\n",
      "Epoch: 10/10..  Training Loss: 3.607..  Test Loss: 3.619..  Test Accuracy: 0.797\n"
     ]
    }
   ],
   "source": [
    "epochs = 10\n",
    "#print_steps = 250\n",
    "#steps = 0\n",
    "\n",
    "model.to(device)\n",
    "\n",
    "for epoch in range(epochs):\n",
    "    \n",
    "    running_loss = 0\n",
    "    steps = 0\n",
    "    model.train()\n",
    "\n",
    "    for ii, (inputs, labels) in enumerate(trainloader):\n",
    "        steps += 1\n",
    "        if steps % 100 == 0: print(steps)\n",
    "\n",
    "        # zero the parameter (weight) gradients\n",
    "        optimizer.zero_grad()\n",
    "\n",
    "        # Move input and label tensors to the GPU\n",
    "        inputs, labels = inputs.to(device), labels.to(device)\n",
    "\n",
    "        outputs = model(inputs)\n",
    "        loss = criterion(outputs, labels)\n",
    "        loss.backward()\n",
    "        optimizer.step()\n",
    "        \n",
    "        # progress\n",
    "        running_loss += loss.item()\n",
    "\n",
    "    # make sure model is in eval mode since dropout is being used\n",
    "    model.eval()\n",
    "\n",
    "    # Turn off gradients for validation, saves memory and computations\n",
    "    with torch.no_grad():\n",
    "        test_loss, accuracy = validation(model, testloader, criterion)\n",
    "\n",
    "    print(\"Epoch: {}/{}.. \".format(epoch+1, epochs),\n",
    "          #\"Training Loss: {:.3f}.. \".format(running_loss / print_steps),\n",
    "          \"Training Loss: {:.3f}.. \".format(running_loss / steps),\n",
    "          \"Test Loss: {:.3f}.. \".format(test_loss / len(testloader)),\n",
    "          \"Test Accuracy: {:.3f}\".format(accuracy / len(testloader)))\n",
    "\n",
    "    running_loss = 0\n",
    "\n",
    "    # Make sure training is back on\n",
    "    model.train()"
   ]
  },
  {
   "cell_type": "markdown",
   "metadata": {},
   "source": [
    "Epoch: 1/3..  Training Loss: 3.996..  Test Loss: 3.876..  Test Accuracy: 0.545\n",
    "\n",
    "Epoch: 2/3..  Training Loss: 3.853..  Test Loss: 3.849..  Test Accuracy: 0.570\n",
    "\n",
    "Epoch: 3/3..  Training Loss: 3.824..  Test Loss: 3.819..  Test Accuracy: 0.598\n",
    "\n",
    "Epoch: 1/7..  Training Loss: 3.811..  Test Loss: 3.811..  Test Accuracy: 0.604\n",
    "\n",
    "Epoch: 2/7..  Training Loss: 3.794..  Test Loss: 3.778..  Test Accuracy: 0.638\n",
    "\n",
    "Epoch: 3/7..  Training Loss: 3.774..  Test Loss: 3.770..  Test Accuracy: 0.647\n",
    "\n",
    "Epoch: 4/7..  Training Loss: 3.748..  Test Loss: 3.731..  Test Accuracy: 0.684\n",
    "\n",
    "Epoch: 5/7..  Training Loss: 3.728..  Test Loss: 3.732..  Test Accuracy: 0.684\n",
    "\n",
    "Epoch: 6/7..  Training Loss: 3.704..  Test Loss: 3.693..  Test Accuracy: 0.724\n",
    "\n",
    "Epoch: 7/7..  Training Loss: 3.680..  Test Loss: 3.667..  Test Accuracy: 0.749\n",
    "\n",
    "Epoch: 1/10..  Training Loss: 3.665..  Test Loss: 3.672..  Test Accuracy: 0.745\n",
    "\n",
    "Epoch: 2/10..  Training Loss: 3.663..  Test Loss: 3.671..  Test Accuracy: 0.746\n",
    "\n",
    "Epoch: 3/10..  Training Loss: 3.659..  Test Loss: 3.665..  Test Accuracy: 0.752\n",
    "\n",
    "Epoch: 4/10..  Training Loss: 3.653..  Test Loss: 3.660..  Test Accuracy: 0.756\n",
    "\n",
    "Epoch: 5/10..  Training Loss: 3.651..  Test Loss: 3.651..  Test Accuracy: 0.765\n",
    "\n",
    "Epoch: 6/10..  Training Loss: 3.635..  Test Loss: 3.626..  Test Accuracy: 0.790\n",
    "\n",
    "Epoch: 7/10..  Training Loss: 3.612..  Test Loss: 3.618..  Test Accuracy: 0.799\n",
    "\n",
    "Epoch: 8/10..  Training Loss: 3.607..  Test Loss: 3.612..  Test Accuracy: 0.804\n",
    "\n",
    "Epoch: 9/10..  Training Loss: 3.607..  Test Loss: 3.613..  Test Accuracy: 0.803\n",
    "\n",
    "Epoch: 10/10..  Training Loss: 3.607..  Test Loss: 3.619..  Test Accuracy: 0.797"
   ]
  },
  {
   "cell_type": "markdown",
   "metadata": {},
   "source": [
    "# Fast AI"
   ]
  },
  {
   "cell_type": "code",
   "execution_count": 2,
   "metadata": {},
   "outputs": [],
   "source": [
    "import warnings\n",
    "import cv2\n",
    "\n",
    "from fastai.imports import *\n",
    "from fastai.torch_imports import *\n",
    "from fastai.transforms import *\n",
    "from fastai.conv_learner import *\n",
    "from fastai.model import *\n",
    "from fastai.dataset import *\n",
    "from fastai.sgdr import *\n",
    "from fastai.plots import *\n",
    "from sklearn.metrics import fbeta_score\n",
    "\n",
    "%reload_ext autoreload\n",
    "%autoreload 2\n",
    "torch.cuda.set_device(0)"
   ]
  },
  {
   "cell_type": "code",
   "execution_count": 7,
   "metadata": {},
   "outputs": [],
   "source": [
    "def f2(preds, targs, start=0.17, end=0.24, step=0.01):\n",
    "    \n",
    "    with warnings.catch_warnings():\n",
    "        warnings.simplefilter(\"ignore\")\n",
    "        \n",
    "        return max([fbeta_score(targs, (preds>th), 2, average='samples')\n",
    "                   for th in np.arange(start,end,step)])\n",
    "\n",
    "def get_1st(path, pattern):\n",
    "    return glob(f'{path}/*{pattern}.*')[2]\n",
    "\n",
    "def get_data(sz, batch_size = 64):\n",
    "    \n",
    "    # init transforms\n",
    "    tfms = tfms_from_model(f_model = arch,\n",
    "                           sz = sz,\n",
    "                           aug_tfms = transforms_top_down,\n",
    "                           max_zoom = 1.05)\n",
    "    \n",
    "    # init classifier data\n",
    "    clf_data = ImageClassifierData.from_paths(path = PATH,\n",
    "                                              trn_name = 'training',\n",
    "                                              val_name = 'test',\n",
    "                                              tfms = tfms,\n",
    "                                              bs = batch_size)\n",
    "    \n",
    "    return clf_data\n",
    "\n",
    "def load_model_new_kernel(model_path, arch = resnet101, sz = 64):\n",
    "    data = get_data(224)\n",
    "    data = data.resize(int(sz * 1.3), '/tmp')\n",
    "    learn = ConvLearner.pretrained(f = arch, data = data)\n",
    "    learn.load(model_path)\n",
    "    \n",
    "    return learn"
   ]
  },
  {
   "cell_type": "code",
   "execution_count": 4,
   "metadata": {},
   "outputs": [],
   "source": [
    "PATH = '../input/fruits/'\n",
    "read_path = '../input/fruits/*'\n",
    "train_dir = '../input/fruits/training/'\n",
    "test_dir = '../input/fruits/test/'\n",
    "\n",
    "sz = 224\n",
    "batch_size = 64\n",
    "arch = resnet34"
   ]
  },
  {
   "cell_type": "code",
   "execution_count": 5,
   "metadata": {},
   "outputs": [
    {
     "name": "stdout",
     "output_type": "stream",
     "text": [
      "\u001b[0m\u001b[01;34mtest\u001b[0m/  \u001b[01;34mtest-multiple_fruits\u001b[0m/  \u001b[01;34mtraining\u001b[0m/\n"
     ]
    }
   ],
   "source": [
    "ls {PATH}"
   ]
  },
  {
   "cell_type": "code",
   "execution_count": 8,
   "metadata": {},
   "outputs": [
    {
     "data": {
      "image/png": "[encoded data removed]",
      "text/plain": [
       "<Figure size 720x360 with 2 Axes>"
      ]
     },
     "metadata": {},
     "output_type": "display_data"
    }
   ],
   "source": [
    "list_paths = [f\"{PATH}/training/Apple Braeburn/0_100.jpg\",\n",
    "              f\"{PATH}/training/Apple Golden 1/116_100.jpg\"]\n",
    "titles = [\"Apple Braeburn\", \"Apple Golden 1\" ]\n",
    "plots_from_files(list_paths,titles=titles,maintitle=\"Multi-label clasification\")"
   ]
  },
  {
   "cell_type": "code",
   "execution_count": 9,
   "metadata": {},
   "outputs": [
    {
     "name": "stdout",
     "output_type": "stream",
     "text": [
      "n labels: 81\n"
     ]
    }
   ],
   "source": [
    "# set metrics and architecture\n",
    "metrics = [f2]\n",
    "arch = resnet34\n",
    "\n",
    "# import the training dataset\n",
    "training_fruit_img = []\n",
    "training_label = []\n",
    "\n",
    "for dir_path in glob(train_dir+'*'):\n",
    "    img_label = dir_path.split(\"/\")[-1]\n",
    "    \n",
    "    for img_path in glob(os.path.join(dir_path, \"*.jpg\")):\n",
    "        img = cv2.imread(img_path)\n",
    "        training_fruit_img.append(img)\n",
    "        training_label.append(img_label)\n",
    "\n",
    "training_fruit_img = np.array(training_fruit_img)\n",
    "training_label = np.array(training_label)\n",
    "print('n labels:', len(np.unique(training_label)))"
   ]
  },
  {
   "cell_type": "code",
   "execution_count": 10,
   "metadata": {},
   "outputs": [
    {
     "name": "stdout",
     "output_type": "stream",
     "text": [
      "Apple Braeburn : 0\n",
      "Apple Golden 1 : 1\n",
      "Apple Golden 2 : 2\n",
      "Apple Golden 3 : 3\n",
      "Apple Granny Smith : 4\n",
      "Apple Red 1 : 5\n"
     ]
    }
   ],
   "source": [
    "label_to_id_dict = {v:i for i,v in enumerate(np.unique(training_label))}\n",
    "id_to_label_dict = {v: k for k, v in label_to_id_dict.items()}\n",
    "\n",
    "for i, (k, v) in enumerate(label_to_id_dict.items()):\n",
    "    print(k, ':', v)\n",
    "    if i == 5: break"
   ]
  },
  {
   "cell_type": "code",
   "execution_count": 11,
   "metadata": {},
   "outputs": [
    {
     "data": {
      "text/plain": [
       "((41322,), (41322,))"
      ]
     },
     "execution_count": 11,
     "metadata": {},
     "output_type": "execute_result"
    }
   ],
   "source": [
    "label_ids = np.array([label_to_id_dict[x] for x in training_label])\n",
    "\n",
    "label_ids.shape, training_label.shape"
   ]
  },
  {
   "cell_type": "code",
   "execution_count": 14,
   "metadata": {},
   "outputs": [
    {
     "data": {
      "application/vnd.jupyter.widget-view+json": {
       "model_id": "5557758819ca4de89da535bb11da39c7",
       "version_major": 2,
       "version_minor": 0
      },
      "text/plain": [
       "HBox(children=(IntProgress(value=0, max=6), HTML(value='')))"
      ]
     },
     "metadata": {},
     "output_type": "display_data"
    },
    {
     "name": "stdout",
     "output_type": "stream",
     "text": [
      "                                                      \n"
     ]
    }
   ],
   "source": [
    "# get the data with init size 224x224 (batch size defaults to 64)\n",
    "data = get_data(224)\n",
    "\n",
    "# Reading the jpgs and resizing is slow for big images, so resizing them all first saves time\n",
    "sz = 64\n",
    "data = data.resize(int(sz * 1.3), '/tmp')"
   ]
  },
  {
   "cell_type": "code",
   "execution_count": 28,
   "metadata": {},
   "outputs": [
    {
     "name": "stderr",
     "output_type": "stream",
     "text": [
      "Downloading: \"https://download.pytorch.org/models/resnet34-333f7ec4.pth\" to /root/.torch/models/resnet34-333f7ec4.pth\n",
      "100%|██████████| 87306240/87306240 [00:01<00:00, 65204055.82it/s]\n"
     ]
    },
    {
     "name": "stdout",
     "output_type": "stream",
     "text": [
      "100%|██████████| 646/646 [03:11<00:00,  3.38it/s]\n",
      "100%|██████████| 217/217 [01:03<00:00,  3.42it/s]\n"
     ]
    }
   ],
   "source": [
    "learn = ConvLearner.pretrained(f = arch,\n",
    "                               data = data,\n",
    "                               precompute = True)"
   ]
  },
  {
   "cell_type": "code",
   "execution_count": 29,
   "metadata": {},
   "outputs": [
    {
     "data": {
      "application/vnd.jupyter.widget-view+json": {
       "model_id": "1397731cd03941e5bfda972b5837a247",
       "version_major": 2,
       "version_minor": 0
      },
      "text/plain": [
       "HBox(children=(IntProgress(value=0, description='Epoch', max=1), HTML(value='')))"
      ]
     },
     "metadata": {},
     "output_type": "display_data"
    },
    {
     "name": "stdout",
     "output_type": "stream",
     "text": [
      " 83%|████████▎ | 536/646 [00:09<00:02, 53.71it/s, loss=1.58]"
     ]
    },
    {
     "data": {
      "image/png": "[encoded data removed]",
      "text/plain": [
       "<Figure size 432x288 with 1 Axes>"
      ]
     },
     "metadata": {},
     "output_type": "display_data"
    }
   ],
   "source": [
    "lrf = learn.lr_find()\n",
    "learn.sched.plot()"
   ]
  },
  {
   "cell_type": "code",
   "execution_count": 30,
   "metadata": {},
   "outputs": [
    {
     "data": {
      "application/vnd.jupyter.widget-view+json": {
       "model_id": "e62d97c2eab94a50b1306e664bf99a86",
       "version_major": 2,
       "version_minor": 0
      },
      "text/plain": [
       "HBox(children=(IntProgress(value=0, description='Epoch', max=3), HTML(value='')))"
      ]
     },
     "metadata": {},
     "output_type": "display_data"
    },
    {
     "name": "stdout",
     "output_type": "stream",
     "text": [
      "epoch      trn_loss   val_loss   accuracy   \n",
      "    0      0.135266   0.132034   0.965843  \n",
      "    1      0.066843   0.095327   0.970455  \n",
      "    2      0.049313   0.085911   0.972833  \n"
     ]
    },
    {
     "data": {
      "text/plain": [
       "[array([0.08591]), 0.9728327448295742]"
      ]
     },
     "execution_count": 30,
     "metadata": {},
     "output_type": "execute_result"
    }
   ],
   "source": [
    "# decide how many epochs it takes for the learning rate to fall to\n",
    "# its minimum point. In this case, 1 epoch\n",
    "\n",
    "\n",
    "\n",
    "\n",
    "\n",
    "learn.fit(lrs = 0.01, n_cycle = 3)"
   ]
  },
  {
   "cell_type": "code",
   "execution_count": 31,
   "metadata": {},
   "outputs": [
    {
     "data": {
      "image/png": "[encoded data removed]",
      "text/plain": [
       "<Figure size 432x288 with 1 Axes>"
      ]
     },
     "metadata": {},
     "output_type": "display_data"
    }
   ],
   "source": [
    "learn.sched.plot_loss()"
   ]
  },
  {
   "cell_type": "markdown",
   "metadata": {},
   "source": [
    "## Increase Size"
   ]
  },
  {
   "cell_type": "code",
   "execution_count": 35,
   "metadata": {},
   "outputs": [],
   "source": [
    "# Starting training on small images for a few epochs, then switching to bigger images,\n",
    "# and continuing training is an amazingly effective way to avoid overfitting.\n",
    "# set_data doesn’t change the model at all. It just gives it new data to train with.\n",
    "\n",
    "learn.set_data(get_data(300))\n",
    "learn.freeze()"
   ]
  },
  {
   "cell_type": "code",
   "execution_count": 36,
   "metadata": {},
   "outputs": [
    {
     "data": {
      "application/vnd.jupyter.widget-view+json": {
       "model_id": "5af71a623a78431f943860d980feed44",
       "version_major": 2,
       "version_minor": 0
      },
      "text/plain": [
       "HBox(children=(IntProgress(value=0, description='Epoch', max=7), HTML(value='')))"
      ]
     },
     "metadata": {},
     "output_type": "display_data"
    },
    {
     "name": "stdout",
     "output_type": "stream",
     "text": [
      "epoch      trn_loss   val_loss   accuracy   \n",
      "    0      0.039348   0.080927   0.973481  \n",
      "    1      0.032093   0.070501   0.975571  \n",
      "    2      0.030827   0.071813   0.975283  \n",
      "    3      0.029113   0.072919   0.975715  \n",
      "    4      0.031026   0.0697     0.975211  \n",
      "    5      0.023038   0.068932   0.975139  \n",
      "    6      0.020998   0.065226   0.976796  \n"
     ]
    },
    {
     "data": {
      "text/plain": [
       "[array([0.06523]), 0.9767961374936946]"
      ]
     },
     "execution_count": 36,
     "metadata": {},
     "output_type": "execute_result"
    }
   ],
   "source": [
    "learn.fit(lrs = 0.01,\n",
    "          n_cycle = 3,\n",
    "          cycle_len = 1,\n",
    "          cycle_mult = 2)"
   ]
  },
  {
   "cell_type": "code",
   "execution_count": 37,
   "metadata": {},
   "outputs": [
    {
     "name": "stdout",
     "output_type": "stream",
     "text": []
    },
    {
     "data": {
      "text/plain": [
       "(0.9767961374936946, 0.06530638954261969)"
      ]
     },
     "execution_count": 37,
     "metadata": {},
     "output_type": "execute_result"
    }
   ],
   "source": [
    "log_preds, y = learn.TTA()\n",
    "probs = np.mean(np.exp(log_preds),0)\n",
    "accuracy_np(probs, y), metrics.log_loss(y, probs)"
   ]
  },
  {
   "cell_type": "code",
   "execution_count": 38,
   "metadata": {},
   "outputs": [],
   "source": [
    "learn.save('300_pre')"
   ]
  },
  {
   "cell_type": "code",
   "execution_count": 39,
   "metadata": {},
   "outputs": [],
   "source": [
    "learn.load('300_pre')"
   ]
  },
  {
   "cell_type": "code",
   "execution_count": 40,
   "metadata": {},
   "outputs": [
    {
     "data": {
      "application/vnd.jupyter.widget-view+json": {
       "model_id": "435bbbc2344643d29d36b985ec39d305",
       "version_major": 2,
       "version_minor": 0
      },
      "text/plain": [
       "HBox(children=(IntProgress(value=0, description='Epoch', max=2), HTML(value='')))"
      ]
     },
     "metadata": {},
     "output_type": "display_data"
    },
    {
     "name": "stdout",
     "output_type": "stream",
     "text": [
      "epoch      trn_loss   val_loss   accuracy   \n",
      "    0      0.019175   0.065801   0.976724  \n",
      "    1      0.023858   0.065129   0.976796  \n"
     ]
    },
    {
     "data": {
      "text/plain": [
       "[array([0.06513]), 0.9767961374936946]"
      ]
     },
     "execution_count": 40,
     "metadata": {},
     "output_type": "execute_result"
    }
   ],
   "source": [
    "learn.fit(lrs = 0.01,\n",
    "          n_cycle = 1,\n",
    "          cycle_len = 2)"
   ]
  },
  {
   "cell_type": "code",
   "execution_count": 41,
   "metadata": {},
   "outputs": [
    {
     "name": "stdout",
     "output_type": "stream",
     "text": []
    },
    {
     "data": {
      "text/plain": [
       "(0.9767961374936946, 0.06516138282224149)"
      ]
     },
     "execution_count": 41,
     "metadata": {},
     "output_type": "execute_result"
    }
   ],
   "source": [
    "log_preds, y = learn.TTA()\n",
    "probs = np.mean(np.exp(log_preds),0)\n",
    "accuracy_np(probs, y), metrics.log_loss(y, probs)"
   ]
  },
  {
   "cell_type": "markdown",
   "metadata": {},
   "source": [
    "## Other Architectures\n",
    "\n",
    " - **VGG**: vgg16, vgg19\n",
    " - **Resnet**: resnet18, resnet50, resnet101, resnet152\n",
    " - **Resnext**: resnext50, resnext101, resnext101_64\n",
    " - **Densenet**: dn121, dn161, dn169, dn201\n",
    " - **Other**: wrn, inceptionresnet_2, inception_4"
   ]
  },
  {
   "cell_type": "code",
   "execution_count": 34,
   "metadata": {},
   "outputs": [],
   "source": [
    "def train_and_optimize(architecture):\n",
    "    data = get_data(224)\n",
    "    sz = 64\n",
    "    \n",
    "    print('===== RESIZING DATA =====')\n",
    "    data = data.resize(int(sz * 1.3), '/tmp')\n",
    "    \n",
    "    # init model\n",
    "    learn = ConvLearner.pretrained(f = arch, data = data, precompute = True)\n",
    "    \n",
    "    # init train\n",
    "    print('\\n\\n===== TRAIN MODEL =====')\n",
    "    learn.fit(lrs = 0.01, n_cycle = 3)\n",
    "    \n",
    "    # optimze, larger images\n",
    "    print('\\n\\n===== TRAIN MODEL WITH LARGER IMAGES =====')\n",
    "    learn.set_data(get_data(300))\n",
    "    learn.freeze()\n",
    "    learn.fit(lrs = 0.01, n_cycle = 3, cycle_len = 1, cycle_mult = 2)\n",
    "    log_preds, y = learn.TTA()\n",
    "    probs = np.mean(np.exp(log_preds),0)\n",
    "    print('Accuracy:', accuracy_np(probs, y))\n",
    "    \n",
    "    # optimize again\n",
    "    print('\\n\\n===== LAST OPTIMIZATION =====')\n",
    "    learn.fit(lrs = 0.01, n_cycle = 1, cycle_len = 2)\n",
    "    log_preds, y = learn.TTA()\n",
    "    probs = np.mean(np.exp(log_preds),0)\n",
    "    \n",
    "    print('\\nFinal Accuracy:', accuracy_np(probs, y), '\\n')"
   ]
  },
  {
   "cell_type": "markdown",
   "metadata": {},
   "source": [
    "### VGG-16"
   ]
  },
  {
   "cell_type": "code",
   "execution_count": 35,
   "metadata": {},
   "outputs": [
    {
     "name": "stdout",
     "output_type": "stream",
     "text": [
      "===== RESIZING DATA =====\n"
     ]
    },
    {
     "data": {
      "application/vnd.jupyter.widget-view+json": {
       "model_id": "4b9c012320ef41599638a1a9146844c4",
       "version_major": 2,
       "version_minor": 0
      },
      "text/plain": [
       "HBox(children=(IntProgress(value=0, max=6), HTML(value='')))"
      ]
     },
     "metadata": {},
     "output_type": "display_data"
    },
    {
     "name": "stdout",
     "output_type": "stream",
     "text": [
      "\n",
      "\n",
      "===== TRAIN MODEL =====\n"
     ]
    },
    {
     "data": {
      "application/vnd.jupyter.widget-view+json": {
       "model_id": "64bdda8eb8c54f80bf21b43dfa37fcd0",
       "version_major": 2,
       "version_minor": 0
      },
      "text/plain": [
       "HBox(children=(IntProgress(value=0, description='Epoch', max=3), HTML(value='')))"
      ]
     },
     "metadata": {},
     "output_type": "display_data"
    },
    {
     "name": "stdout",
     "output_type": "stream",
     "text": [
      "epoch      trn_loss   val_loss   accuracy   \n",
      "    0      0.133402   0.127126   0.966131  \n",
      "    1      0.065504   0.090019   0.97168   \n",
      "    2      0.050597   0.080329   0.971319  \n",
      "\n",
      "\n",
      "===== TRAIN MODEL WITH LARGER IMAGES =====\n"
     ]
    },
    {
     "data": {
      "application/vnd.jupyter.widget-view+json": {
       "model_id": "d250287299da4b74bcf735ef8fe2a517",
       "version_major": 2,
       "version_minor": 0
      },
      "text/plain": [
       "HBox(children=(IntProgress(value=0, description='Epoch', max=7), HTML(value='')))"
      ]
     },
     "metadata": {},
     "output_type": "display_data"
    },
    {
     "name": "stdout",
     "output_type": "stream",
     "text": [
      "epoch      trn_loss   val_loss   accuracy   \n",
      "    0      0.040172   0.07523    0.974995  \n",
      "    1      0.033926   0.071724   0.975355  \n",
      "    2      0.029786   0.070937   0.976148  \n",
      "    3      0.026597   0.073024   0.975499  \n",
      "    4      0.024385   0.063921   0.97694   \n",
      "    5      0.025517   0.060516   0.977301  \n",
      "    6      0.022304   0.061882   0.977229  \n",
      "Accuracy: 0.9772285076025078\n",
      "\n",
      "\n",
      "===== LAST OPTIMIZATION =====\n"
     ]
    },
    {
     "data": {
      "application/vnd.jupyter.widget-view+json": {
       "model_id": "086ee4ad454d43c9b700f912f0b35d1f",
       "version_major": 2,
       "version_minor": 0
      },
      "text/plain": [
       "HBox(children=(IntProgress(value=0, description='Epoch', max=2), HTML(value='')))"
      ]
     },
     "metadata": {},
     "output_type": "display_data"
    },
    {
     "name": "stdout",
     "output_type": "stream",
     "text": [
      "epoch      trn_loss   val_loss   accuracy   \n",
      "    0      0.023383   0.060958   0.978598  \n",
      "    1      0.019354   0.060486   0.977877  \n",
      "                                             \n",
      "Final Accuracy: 0.9778770627657275 \n",
      "\n"
     ]
    }
   ],
   "source": [
    "train_and_optimize(vgg16)"
   ]
  },
  {
   "cell_type": "markdown",
   "metadata": {},
   "source": [
    "### VGG-19"
   ]
  },
  {
   "cell_type": "code",
   "execution_count": 37,
   "metadata": {},
   "outputs": [
    {
     "name": "stdout",
     "output_type": "stream",
     "text": [
      "===== RESIZING DATA =====\n"
     ]
    },
    {
     "data": {
      "application/vnd.jupyter.widget-view+json": {
       "model_id": "792f718a5e714249802bb186d9333fae",
       "version_major": 2,
       "version_minor": 0
      },
      "text/plain": [
       "HBox(children=(IntProgress(value=0, max=6), HTML(value='')))"
      ]
     },
     "metadata": {},
     "output_type": "display_data"
    },
    {
     "name": "stdout",
     "output_type": "stream",
     "text": [
      "\n",
      "\n",
      "===== TRAIN MODEL =====\n"
     ]
    },
    {
     "data": {
      "application/vnd.jupyter.widget-view+json": {
       "model_id": "3e28546b2360429e93458fc187ba6989",
       "version_major": 2,
       "version_minor": 0
      },
      "text/plain": [
       "HBox(children=(IntProgress(value=0, description='Epoch', max=3), HTML(value='')))"
      ]
     },
     "metadata": {},
     "output_type": "display_data"
    },
    {
     "name": "stdout",
     "output_type": "stream",
     "text": [
      "epoch      trn_loss   val_loss   accuracy   \n",
      "    0      0.138854   0.127463   0.968581  \n",
      "    1      0.071779   0.090844   0.973193  \n",
      "    2      0.045648   0.076045   0.974706  \n",
      "\n",
      "\n",
      "===== TRAIN MODEL WITH LARGER IMAGES =====\n"
     ]
    },
    {
     "data": {
      "application/vnd.jupyter.widget-view+json": {
       "model_id": "99d366039e38423da59f9b770a3164d8",
       "version_major": 2,
       "version_minor": 0
      },
      "text/plain": [
       "HBox(children=(IntProgress(value=0, description='Epoch', max=7), HTML(value='')))"
      ]
     },
     "metadata": {},
     "output_type": "display_data"
    },
    {
     "name": "stdout",
     "output_type": "stream",
     "text": [
      "epoch      trn_loss   val_loss   accuracy   \n",
      "    0      0.039558   0.075687   0.975427  \n",
      "    1      0.034471   0.067309   0.977661  \n",
      "    2      0.031119   0.066794   0.977084  \n",
      "    3      0.026031   0.069116   0.977445  \n",
      "    4      0.027016   0.065516   0.977949  \n",
      "    5      0.027494   0.059626   0.979174  \n",
      "    6      0.023984   0.059822   0.97903   \n",
      "Accuracy: 0.9790300497225625\n",
      "\n",
      "\n",
      "===== LAST OPTIMIZATION =====\n"
     ]
    },
    {
     "data": {
      "application/vnd.jupyter.widget-view+json": {
       "model_id": "62916e66153b413a8a04f5ca72cc10cd",
       "version_major": 2,
       "version_minor": 0
      },
      "text/plain": [
       "HBox(children=(IntProgress(value=0, description='Epoch', max=2), HTML(value='')))"
      ]
     },
     "metadata": {},
     "output_type": "display_data"
    },
    {
     "name": "stdout",
     "output_type": "stream",
     "text": [
      "epoch      trn_loss   val_loss   accuracy   \n",
      "    0      0.023295   0.062543   0.979318  \n",
      "    1      0.02213    0.063882   0.977877  \n",
      "                                             \n",
      "Final Accuracy: 0.9778770627657275 \n",
      "\n"
     ]
    }
   ],
   "source": [
    "train_and_optimize(vgg19)"
   ]
  },
  {
   "cell_type": "markdown",
   "metadata": {},
   "source": [
    "### ResNet-18"
   ]
  },
  {
   "cell_type": "code",
   "execution_count": 39,
   "metadata": {},
   "outputs": [
    {
     "name": "stdout",
     "output_type": "stream",
     "text": [
      "===== RESIZING DATA =====\n"
     ]
    },
    {
     "data": {
      "application/vnd.jupyter.widget-view+json": {
       "model_id": "0d2ce9e9205a471a948ddb0b2717e652",
       "version_major": 2,
       "version_minor": 0
      },
      "text/plain": [
       "HBox(children=(IntProgress(value=0, max=6), HTML(value='')))"
      ]
     },
     "metadata": {},
     "output_type": "display_data"
    },
    {
     "name": "stdout",
     "output_type": "stream",
     "text": [
      "\n",
      "\n",
      "===== TRAIN MODEL =====\n"
     ]
    },
    {
     "data": {
      "application/vnd.jupyter.widget-view+json": {
       "model_id": "25a02a8d343246488c00f821440fcc7c",
       "version_major": 2,
       "version_minor": 0
      },
      "text/plain": [
       "HBox(children=(IntProgress(value=0, description='Epoch', max=3), HTML(value='')))"
      ]
     },
     "metadata": {},
     "output_type": "display_data"
    },
    {
     "name": "stdout",
     "output_type": "stream",
     "text": [
      "epoch      trn_loss   val_loss   accuracy   \n",
      "    0      0.127919   0.126371   0.972112  \n",
      "    1      0.073398   0.08354    0.975571  \n",
      "    2      0.047434   0.077308   0.975283  \n",
      "\n",
      "\n",
      "===== TRAIN MODEL WITH LARGER IMAGES =====\n"
     ]
    },
    {
     "data": {
      "application/vnd.jupyter.widget-view+json": {
       "model_id": "f39b5268055140f58840dd6e58b4c99f",
       "version_major": 2,
       "version_minor": 0
      },
      "text/plain": [
       "HBox(children=(IntProgress(value=0, description='Epoch', max=7), HTML(value='')))"
      ]
     },
     "metadata": {},
     "output_type": "display_data"
    },
    {
     "name": "stdout",
     "output_type": "stream",
     "text": [
      "epoch      trn_loss   val_loss   accuracy   \n",
      "    0      0.038393   0.07059    0.977805  \n",
      "    1      0.035521   0.065761   0.977733  \n",
      "    2      0.029547   0.064233   0.978165  \n",
      "    3      0.027559   0.061135   0.980039  \n",
      "    4      0.021693   0.061398   0.977949  \n",
      "    5      0.022715   0.060152   0.978886  \n",
      "    6      0.021456   0.060271   0.978742  \n",
      "Accuracy: 0.9787418029833538\n",
      "\n",
      "\n",
      "===== LAST OPTIMIZATION =====\n"
     ]
    },
    {
     "data": {
      "application/vnd.jupyter.widget-view+json": {
       "model_id": "ea30c49257f8494da3e4d42697fea146",
       "version_major": 2,
       "version_minor": 0
      },
      "text/plain": [
       "HBox(children=(IntProgress(value=0, description='Epoch', max=2), HTML(value='')))"
      ]
     },
     "metadata": {},
     "output_type": "display_data"
    },
    {
     "name": "stdout",
     "output_type": "stream",
     "text": [
      "epoch      trn_loss   val_loss   accuracy   \n",
      "    0      0.022682   0.058235   0.978958  \n",
      "    1      0.02267    0.057463   0.979174  \n",
      "                                             \n",
      "Final Accuracy: 0.9791741730921669 \n",
      "\n"
     ]
    }
   ],
   "source": [
    "train_and_optimize(resnet18)"
   ]
  },
  {
   "cell_type": "markdown",
   "metadata": {},
   "source": [
    "### ResNet-50"
   ]
  },
  {
   "cell_type": "code",
   "execution_count": 41,
   "metadata": {},
   "outputs": [
    {
     "name": "stdout",
     "output_type": "stream",
     "text": [
      "===== RESIZING DATA =====\n"
     ]
    },
    {
     "data": {
      "application/vnd.jupyter.widget-view+json": {
       "model_id": "0879e770121a4308b298046768e3130a",
       "version_major": 2,
       "version_minor": 0
      },
      "text/plain": [
       "HBox(children=(IntProgress(value=0, max=6), HTML(value='')))"
      ]
     },
     "metadata": {},
     "output_type": "display_data"
    },
    {
     "name": "stdout",
     "output_type": "stream",
     "text": [
      "\n",
      "\n",
      "===== TRAIN MODEL =====\n"
     ]
    },
    {
     "data": {
      "application/vnd.jupyter.widget-view+json": {
       "model_id": "7d4e86e5fecb47f89995cbad67c5c914",
       "version_major": 2,
       "version_minor": 0
      },
      "text/plain": [
       "HBox(children=(IntProgress(value=0, description='Epoch', max=3), HTML(value='')))"
      ]
     },
     "metadata": {},
     "output_type": "display_data"
    },
    {
     "name": "stdout",
     "output_type": "stream",
     "text": [
      "epoch      trn_loss   val_loss   accuracy   \n",
      "    0      0.128424   0.119509   0.968653  \n",
      "    1      0.068936   0.087211   0.974923  \n",
      "    2      0.043925   0.071474   0.977156  \n",
      "\n",
      "\n",
      "===== TRAIN MODEL WITH LARGER IMAGES =====\n"
     ]
    },
    {
     "data": {
      "application/vnd.jupyter.widget-view+json": {
       "model_id": "07652cdbfc3044618b805329ce1154e7",
       "version_major": 2,
       "version_minor": 0
      },
      "text/plain": [
       "HBox(children=(IntProgress(value=0, description='Epoch', max=7), HTML(value='')))"
      ]
     },
     "metadata": {},
     "output_type": "display_data"
    },
    {
     "name": "stdout",
     "output_type": "stream",
     "text": [
      "epoch      trn_loss   val_loss   accuracy   \n",
      "    0      0.036163   0.066907   0.977949  \n",
      "    1      0.033562   0.066294   0.978381  \n",
      "    2      0.029893   0.063109   0.979174  \n",
      "    3      0.027983   0.061177   0.978742  \n",
      "    4      0.029022   0.057338   0.980615  \n",
      "    5      0.029232   0.054618   0.981408  \n",
      "    6      0.023594   0.056808   0.980615  \n",
      "Accuracy: 0.9807595301578151\n",
      "\n",
      "\n",
      "===== LAST OPTIMIZATION =====\n"
     ]
    },
    {
     "data": {
      "application/vnd.jupyter.widget-view+json": {
       "model_id": "b25d473ca64b42a48f97d713508b0ce7",
       "version_major": 2,
       "version_minor": 0
      },
      "text/plain": [
       "HBox(children=(IntProgress(value=0, description='Epoch', max=2), HTML(value='')))"
      ]
     },
     "metadata": {},
     "output_type": "display_data"
    },
    {
     "name": "stdout",
     "output_type": "stream",
     "text": [
      "epoch      trn_loss   val_loss   accuracy   \n",
      "    0      0.023973   0.054435   0.981048  \n",
      "    1      0.022104   0.053344   0.981552  \n",
      "                                             \n",
      "Final Accuracy: 0.9815522086906392 \n",
      "\n"
     ]
    }
   ],
   "source": [
    "train_and_optimize(resnet50)"
   ]
  },
  {
   "cell_type": "markdown",
   "metadata": {},
   "source": [
    "### ResNet-101"
   ]
  },
  {
   "cell_type": "code",
   "execution_count": 43,
   "metadata": {},
   "outputs": [
    {
     "name": "stdout",
     "output_type": "stream",
     "text": [
      "===== RESIZING DATA =====\n"
     ]
    },
    {
     "data": {
      "application/vnd.jupyter.widget-view+json": {
       "model_id": "a2410f71e4104ea580548332a4d2427b",
       "version_major": 2,
       "version_minor": 0
      },
      "text/plain": [
       "HBox(children=(IntProgress(value=0, max=6), HTML(value='')))"
      ]
     },
     "metadata": {},
     "output_type": "display_data"
    },
    {
     "name": "stdout",
     "output_type": "stream",
     "text": [
      "\n",
      "\n",
      "===== TRAIN MODEL =====\n"
     ]
    },
    {
     "data": {
      "application/vnd.jupyter.widget-view+json": {
       "model_id": "2bd8487d3080442bacd7dc42b28ff129",
       "version_major": 2,
       "version_minor": 0
      },
      "text/plain": [
       "HBox(children=(IntProgress(value=0, description='Epoch', max=3), HTML(value='')))"
      ]
     },
     "metadata": {},
     "output_type": "display_data"
    },
    {
     "name": "stdout",
     "output_type": "stream",
     "text": [
      "epoch      trn_loss   val_loss   accuracy   \n",
      "    0      0.129648   0.120728   0.971319  \n",
      "    1      0.066577   0.087397   0.975499  \n",
      "    2      0.053305   0.067844   0.979607  \n",
      "\n",
      "\n",
      "===== TRAIN MODEL WITH LARGER IMAGES =====\n"
     ]
    },
    {
     "data": {
      "application/vnd.jupyter.widget-view+json": {
       "model_id": "367e3ce0281c4feaafd73c95e01787a0",
       "version_major": 2,
       "version_minor": 0
      },
      "text/plain": [
       "HBox(children=(IntProgress(value=0, description='Epoch', max=7), HTML(value='')))"
      ]
     },
     "metadata": {},
     "output_type": "display_data"
    },
    {
     "name": "stdout",
     "output_type": "stream",
     "text": [
      "epoch      trn_loss   val_loss   accuracy   \n",
      "    0      0.049343   0.067803   0.978742  \n",
      "    1      0.030767   0.0625     0.97867   \n",
      "    2      0.036252   0.061396   0.979751  \n",
      "    3      0.028076   0.05791    0.98076   \n",
      "    4      0.029879   0.055432   0.98148   \n",
      "    5      0.023298   0.057666   0.980399  \n",
      "    6      0.021953   0.057609   0.980255  \n",
      "Accuracy: 0.9802550983641998\n",
      "\n",
      "\n",
      "===== LAST OPTIMIZATION =====\n"
     ]
    },
    {
     "data": {
      "application/vnd.jupyter.widget-view+json": {
       "model_id": "ed2b462199ec4aba8a587869faf796c7",
       "version_major": 2,
       "version_minor": 0
      },
      "text/plain": [
       "HBox(children=(IntProgress(value=0, description='Epoch', max=2), HTML(value='')))"
      ]
     },
     "metadata": {},
     "output_type": "display_data"
    },
    {
     "name": "stdout",
     "output_type": "stream",
     "text": [
      "epoch      trn_loss   val_loss   accuracy   \n",
      "    0      0.021819   0.053869   0.98112   \n",
      "    1      0.023081   0.052217   0.981768  \n",
      "                                             \n",
      "Final Accuracy: 0.981840455429848 \n",
      "\n"
     ]
    }
   ],
   "source": [
    "train_and_optimize(resnet101)"
   ]
  },
  {
   "cell_type": "markdown",
   "metadata": {},
   "source": [
    "### ResNeXt-50"
   ]
  },
  {
   "cell_type": "code",
   "execution_count": 45,
   "metadata": {},
   "outputs": [
    {
     "name": "stdout",
     "output_type": "stream",
     "text": [
      "===== RESIZING DATA =====\n"
     ]
    },
    {
     "data": {
      "application/vnd.jupyter.widget-view+json": {
       "model_id": "bb4f1f47d8b44caabd146d718e1c3c94",
       "version_major": 2,
       "version_minor": 0
      },
      "text/plain": [
       "HBox(children=(IntProgress(value=0, max=6), HTML(value='')))"
      ]
     },
     "metadata": {},
     "output_type": "display_data"
    },
    {
     "name": "stdout",
     "output_type": "stream",
     "text": [
      "\n",
      "\n",
      "===== TRAIN MODEL =====\n"
     ]
    },
    {
     "data": {
      "application/vnd.jupyter.widget-view+json": {
       "model_id": "bbb219f5452744a0bebaf8f5e73a71e2",
       "version_major": 2,
       "version_minor": 0
      },
      "text/plain": [
       "HBox(children=(IntProgress(value=0, description='Epoch', max=3), HTML(value='')))"
      ]
     },
     "metadata": {},
     "output_type": "display_data"
    },
    {
     "name": "stdout",
     "output_type": "stream",
     "text": [
      "epoch      trn_loss   val_loss   accuracy   \n",
      "    0      0.132473   0.114732   0.969086  \n",
      "    1      0.066308   0.091975   0.971319  \n",
      "    2      0.044682   0.070434   0.976148  \n",
      "\n",
      "\n",
      "===== TRAIN MODEL WITH LARGER IMAGES =====\n"
     ]
    },
    {
     "data": {
      "application/vnd.jupyter.widget-view+json": {
       "model_id": "f5f97a0fe24d4534b62ac4c3edd037ba",
       "version_major": 2,
       "version_minor": 0
      },
      "text/plain": [
       "HBox(children=(IntProgress(value=0, description='Epoch', max=7), HTML(value='')))"
      ]
     },
     "metadata": {},
     "output_type": "display_data"
    },
    {
     "name": "stdout",
     "output_type": "stream",
     "text": [
      "epoch      trn_loss   val_loss   accuracy   \n",
      "    0      0.043447   0.068654   0.976003  \n",
      "    1      0.031894   0.063517   0.976724  \n",
      "    2      0.031141   0.063664   0.976292  \n",
      "    3      0.028789   0.061428   0.978526  \n",
      "    4      0.027527   0.057374   0.978742  \n",
      "    5      0.022067   0.057864   0.978598  \n",
      "    6      0.024731   0.057109   0.978958  \n",
      "Accuracy: 0.9789579880377604\n",
      "\n",
      "\n",
      "===== LAST OPTIMIZATION =====\n"
     ]
    },
    {
     "data": {
      "application/vnd.jupyter.widget-view+json": {
       "model_id": "71ff9f997aa74d0ab39fe38aa278b36a",
       "version_major": 2,
       "version_minor": 0
      },
      "text/plain": [
       "HBox(children=(IntProgress(value=0, description='Epoch', max=2), HTML(value='')))"
      ]
     },
     "metadata": {},
     "output_type": "display_data"
    },
    {
     "name": "stdout",
     "output_type": "stream",
     "text": [
      "epoch      trn_loss   val_loss   accuracy   \n",
      "    0      0.02519    0.060132   0.978093  \n",
      "    1      0.023435   0.05945    0.978958  \n",
      "                                             \n",
      "Final Accuracy: 0.9790300497225625 \n",
      "\n"
     ]
    }
   ],
   "source": [
    "train_and_optimize(resnext50)"
   ]
  },
  {
   "cell_type": "markdown",
   "metadata": {},
   "source": [
    "### ResNeXt-101"
   ]
  },
  {
   "cell_type": "code",
   "execution_count": 47,
   "metadata": {},
   "outputs": [
    {
     "name": "stdout",
     "output_type": "stream",
     "text": [
      "===== RESIZING DATA =====\n"
     ]
    },
    {
     "data": {
      "application/vnd.jupyter.widget-view+json": {
       "model_id": "4a1446c096a442c38530d727c5981a86",
       "version_major": 2,
       "version_minor": 0
      },
      "text/plain": [
       "HBox(children=(IntProgress(value=0, max=6), HTML(value='')))"
      ]
     },
     "metadata": {},
     "output_type": "display_data"
    },
    {
     "name": "stdout",
     "output_type": "stream",
     "text": [
      "\n",
      "\n",
      "===== TRAIN MODEL =====\n"
     ]
    },
    {
     "data": {
      "application/vnd.jupyter.widget-view+json": {
       "model_id": "4e496f2fa78b4a59a2ed4de32a1f6cd9",
       "version_major": 2,
       "version_minor": 0
      },
      "text/plain": [
       "HBox(children=(IntProgress(value=0, description='Epoch', max=3), HTML(value='')))"
      ]
     },
     "metadata": {},
     "output_type": "display_data"
    },
    {
     "name": "stdout",
     "output_type": "stream",
     "text": [
      "epoch      trn_loss   val_loss   accuracy   \n",
      "    0      0.123601   0.123497   0.969518  \n",
      "    1      0.063954   0.093815   0.97204   \n",
      "    2      0.045928   0.07837    0.97377   \n",
      "\n",
      "\n",
      "===== TRAIN MODEL WITH LARGER IMAGES =====\n"
     ]
    },
    {
     "data": {
      "application/vnd.jupyter.widget-view+json": {
       "model_id": "972259fed49a41a78e15308312e84b2b",
       "version_major": 2,
       "version_minor": 0
      },
      "text/plain": [
       "HBox(children=(IntProgress(value=0, description='Epoch', max=7), HTML(value='')))"
      ]
     },
     "metadata": {},
     "output_type": "display_data"
    },
    {
     "name": "stdout",
     "output_type": "stream",
     "text": [
      "epoch      trn_loss   val_loss   accuracy   \n",
      "    0      0.040028   0.071148   0.976292  \n",
      "    1      0.036975   0.072645   0.97658   \n",
      "    2      0.030924   0.066787   0.976724  \n",
      "    3      0.026336   0.060109   0.979751  \n",
      "    4      0.027712   0.057249   0.980255  \n",
      "    5      0.02604    0.060402   0.979462  \n",
      "    6      0.024311   0.060428   0.980183  \n",
      "Accuracy: 0.9801830366793975\n",
      "\n",
      "\n",
      "===== LAST OPTIMIZATION =====\n"
     ]
    },
    {
     "data": {
      "application/vnd.jupyter.widget-view+json": {
       "model_id": "cc22b3afdfa94d829c3a1cb19e250368",
       "version_major": 2,
       "version_minor": 0
      },
      "text/plain": [
       "HBox(children=(IntProgress(value=0, description='Epoch', max=2), HTML(value='')))"
      ]
     },
     "metadata": {},
     "output_type": "display_data"
    },
    {
     "name": "stdout",
     "output_type": "stream",
     "text": [
      "epoch      trn_loss   val_loss   accuracy   \n",
      "    0      0.025171   0.058227   0.980471  \n",
      "    1      0.021045   0.058353   0.980111  \n",
      "                                             \n",
      "Final Accuracy: 0.9801109749945953 \n",
      "\n"
     ]
    }
   ],
   "source": [
    "train_and_optimize(resnext101)"
   ]
  },
  {
   "cell_type": "markdown",
   "metadata": {},
   "source": [
    "### ResNeXt-101 (64)"
   ]
  },
  {
   "cell_type": "code",
   "execution_count": 49,
   "metadata": {},
   "outputs": [
    {
     "name": "stdout",
     "output_type": "stream",
     "text": [
      "===== RESIZING DATA =====\n"
     ]
    },
    {
     "data": {
      "application/vnd.jupyter.widget-view+json": {
       "model_id": "5c29aa73bd924b2f962acd9b4094f043",
       "version_major": 2,
       "version_minor": 0
      },
      "text/plain": [
       "HBox(children=(IntProgress(value=0, max=6), HTML(value='')))"
      ]
     },
     "metadata": {},
     "output_type": "display_data"
    },
    {
     "name": "stdout",
     "output_type": "stream",
     "text": [
      "\n",
      "\n",
      "===== TRAIN MODEL =====\n"
     ]
    },
    {
     "data": {
      "application/vnd.jupyter.widget-view+json": {
       "model_id": "dce148f6bdd344ab994854d5566d086d",
       "version_major": 2,
       "version_minor": 0
      },
      "text/plain": [
       "HBox(children=(IntProgress(value=0, description='Epoch', max=3), HTML(value='')))"
      ]
     },
     "metadata": {},
     "output_type": "display_data"
    },
    {
     "name": "stdout",
     "output_type": "stream",
     "text": [
      "epoch      trn_loss   val_loss   accuracy   \n",
      "    0      0.126905   0.125414   0.967428  \n",
      "    1      0.069327   0.085581   0.973337  \n",
      "    2      0.048726   0.076104   0.975499  \n",
      "\n",
      "\n",
      "===== TRAIN MODEL WITH LARGER IMAGES =====\n"
     ]
    },
    {
     "data": {
      "application/vnd.jupyter.widget-view+json": {
       "model_id": "5369e82d2c7a4ae48fe5527a411cb2bb",
       "version_major": 2,
       "version_minor": 0
      },
      "text/plain": [
       "HBox(children=(IntProgress(value=0, description='Epoch', max=7), HTML(value='')))"
      ]
     },
     "metadata": {},
     "output_type": "display_data"
    },
    {
     "name": "stdout",
     "output_type": "stream",
     "text": [
      "epoch      trn_loss   val_loss   accuracy   \n",
      "    0      0.03899    0.074632   0.975355  \n",
      "    1      0.035619   0.066053   0.978309  \n",
      "    2      0.031498   0.063518   0.978021  \n",
      "    3      0.027512   0.066551   0.978814  \n",
      "    4      0.022714   0.058192   0.980111  \n",
      "    5      0.025765   0.061481   0.979174  \n",
      "    6      0.032112   0.059373   0.980327  \n",
      "Accuracy: 0.9803992217338041\n",
      "\n",
      "\n",
      "===== LAST OPTIMIZATION =====\n"
     ]
    },
    {
     "data": {
      "application/vnd.jupyter.widget-view+json": {
       "model_id": "d608f252327e47e8ad1dfb12b641a529",
       "version_major": 2,
       "version_minor": 0
      },
      "text/plain": [
       "HBox(children=(IntProgress(value=0, description='Epoch', max=2), HTML(value='')))"
      ]
     },
     "metadata": {},
     "output_type": "display_data"
    },
    {
     "name": "stdout",
     "output_type": "stream",
     "text": [
      "epoch      trn_loss   val_loss   accuracy   \n",
      "    0      0.022716   0.060681   0.979823  \n",
      "    1      0.020867   0.055556   0.980327  \n",
      "                                             \n",
      "Final Accuracy: 0.980327160049002 \n",
      "\n"
     ]
    }
   ],
   "source": [
    "train_and_optimize(resnext101_64)"
   ]
  },
  {
   "cell_type": "markdown",
   "metadata": {},
   "source": [
    "### DenseNet-121"
   ]
  },
  {
   "cell_type": "code",
   "execution_count": 51,
   "metadata": {},
   "outputs": [
    {
     "name": "stdout",
     "output_type": "stream",
     "text": [
      "===== RESIZING DATA =====\n"
     ]
    },
    {
     "data": {
      "application/vnd.jupyter.widget-view+json": {
       "model_id": "3050d33a87714d849247ad03057fe9d6",
       "version_major": 2,
       "version_minor": 0
      },
      "text/plain": [
       "HBox(children=(IntProgress(value=0, max=6), HTML(value='')))"
      ]
     },
     "metadata": {},
     "output_type": "display_data"
    },
    {
     "name": "stdout",
     "output_type": "stream",
     "text": [
      "\n",
      "\n",
      "===== TRAIN MODEL =====\n"
     ]
    },
    {
     "data": {
      "application/vnd.jupyter.widget-view+json": {
       "model_id": "a14583b5a7914653a027274c932d57a1",
       "version_major": 2,
       "version_minor": 0
      },
      "text/plain": [
       "HBox(children=(IntProgress(value=0, description='Epoch', max=3), HTML(value='')))"
      ]
     },
     "metadata": {},
     "output_type": "display_data"
    },
    {
     "name": "stdout",
     "output_type": "stream",
     "text": [
      "epoch      trn_loss   val_loss   accuracy   \n",
      "    0      0.133051   0.124835   0.970311  \n",
      "    1      0.068309   0.092548   0.971896  \n",
      "    2      0.045681   0.079585   0.973842  \n",
      "\n",
      "\n",
      "===== TRAIN MODEL WITH LARGER IMAGES =====\n"
     ]
    },
    {
     "data": {
      "application/vnd.jupyter.widget-view+json": {
       "model_id": "60e45c12b82744a1ad5c47eb9a65e5f2",
       "version_major": 2,
       "version_minor": 0
      },
      "text/plain": [
       "HBox(children=(IntProgress(value=0, description='Epoch', max=7), HTML(value='')))"
      ]
     },
     "metadata": {},
     "output_type": "display_data"
    },
    {
     "name": "stdout",
     "output_type": "stream",
     "text": [
      "epoch      trn_loss   val_loss   accuracy   \n",
      "    0      0.03928    0.075875   0.974706  \n",
      "    1      0.034492   0.072366   0.974562  \n",
      "    2      0.032686   0.07068    0.975355  \n",
      "    3      0.028301   0.070212   0.97622   \n",
      "    4      0.025583   0.062592   0.978309  \n",
      "    5      0.02663    0.071963   0.975715  \n",
      "    6      0.023432   0.066186   0.976652  \n",
      "Accuracy: 0.9766520141240902\n",
      "\n",
      "\n",
      "===== LAST OPTIMIZATION =====\n"
     ]
    },
    {
     "data": {
      "application/vnd.jupyter.widget-view+json": {
       "model_id": "af958a031b654897802bc2c4e8b99850",
       "version_major": 2,
       "version_minor": 0
      },
      "text/plain": [
       "HBox(children=(IntProgress(value=0, description='Epoch', max=2), HTML(value='')))"
      ]
     },
     "metadata": {},
     "output_type": "display_data"
    },
    {
     "name": "stdout",
     "output_type": "stream",
     "text": [
      "epoch      trn_loss   val_loss   accuracy   \n",
      "    0      0.023918   0.064502   0.976652  \n",
      "    1      0.020205   0.066293   0.976508  \n",
      "                                             \n",
      "Final Accuracy: 0.9765078907544859 \n",
      "\n"
     ]
    }
   ],
   "source": [
    "train_and_optimize(dn121)"
   ]
  },
  {
   "cell_type": "markdown",
   "metadata": {},
   "source": [
    "### DenseNet-161"
   ]
  },
  {
   "cell_type": "code",
   "execution_count": 53,
   "metadata": {},
   "outputs": [
    {
     "name": "stdout",
     "output_type": "stream",
     "text": [
      "===== RESIZING DATA =====\n"
     ]
    },
    {
     "data": {
      "application/vnd.jupyter.widget-view+json": {
       "model_id": "1116e50bbae744208fc6ccad68d53f2a",
       "version_major": 2,
       "version_minor": 0
      },
      "text/plain": [
       "HBox(children=(IntProgress(value=0, max=6), HTML(value='')))"
      ]
     },
     "metadata": {},
     "output_type": "display_data"
    },
    {
     "name": "stdout",
     "output_type": "stream",
     "text": [
      "\n",
      "\n",
      "===== TRAIN MODEL =====\n"
     ]
    },
    {
     "data": {
      "application/vnd.jupyter.widget-view+json": {
       "model_id": "4750bba8632d4c5b82db1443a70c1853",
       "version_major": 2,
       "version_minor": 0
      },
      "text/plain": [
       "HBox(children=(IntProgress(value=0, description='Epoch', max=3), HTML(value='')))"
      ]
     },
     "metadata": {},
     "output_type": "display_data"
    },
    {
     "name": "stdout",
     "output_type": "stream",
     "text": [
      "epoch      trn_loss   val_loss   accuracy   \n",
      "    0      0.130069   0.126433   0.968941  \n",
      "    1      0.065961   0.092299   0.975283  \n",
      "    2      0.046145   0.077524   0.97413   \n",
      "\n",
      "\n",
      "===== TRAIN MODEL WITH LARGER IMAGES =====\n"
     ]
    },
    {
     "data": {
      "application/vnd.jupyter.widget-view+json": {
       "model_id": "424e4e517045407389374f8e526fdede",
       "version_major": 2,
       "version_minor": 0
      },
      "text/plain": [
       "HBox(children=(IntProgress(value=0, description='Epoch', max=7), HTML(value='')))"
      ]
     },
     "metadata": {},
     "output_type": "display_data"
    },
    {
     "name": "stdout",
     "output_type": "stream",
     "text": [
      "epoch      trn_loss   val_loss   accuracy   \n",
      "    0      0.036151   0.076131   0.97622   \n",
      "    1      0.035207   0.071295   0.976364  \n",
      "    2      0.032365   0.073192   0.97622   \n",
      "    3      0.029423   0.069711   0.976436  \n",
      "    4      0.026179   0.069046   0.976652  \n",
      "    5      0.025633   0.069175   0.976796  \n",
      "    6      0.022666   0.068606   0.977012  \n",
      "Accuracy: 0.9770123225481012\n",
      "\n",
      "\n",
      "===== LAST OPTIMIZATION =====\n"
     ]
    },
    {
     "data": {
      "application/vnd.jupyter.widget-view+json": {
       "model_id": "90c8a4ae20d74045a160ae9e116f0d99",
       "version_major": 2,
       "version_minor": 0
      },
      "text/plain": [
       "HBox(children=(IntProgress(value=0, description='Epoch', max=2), HTML(value='')))"
      ]
     },
     "metadata": {},
     "output_type": "display_data"
    },
    {
     "name": "stdout",
     "output_type": "stream",
     "text": [
      "epoch      trn_loss   val_loss   accuracy   \n",
      "    0      0.022547   0.070219   0.976364  \n",
      "    1      0.022258   0.06499    0.977156  \n",
      "                                             \n",
      "Final Accuracy: 0.9771564459177056 \n",
      "\n"
     ]
    }
   ],
   "source": [
    "train_and_optimize(dn161)"
   ]
  },
  {
   "cell_type": "markdown",
   "metadata": {},
   "source": [
    "### DenseNet-169"
   ]
  },
  {
   "cell_type": "code",
   "execution_count": 55,
   "metadata": {},
   "outputs": [
    {
     "name": "stdout",
     "output_type": "stream",
     "text": [
      "===== RESIZING DATA =====\n"
     ]
    },
    {
     "data": {
      "application/vnd.jupyter.widget-view+json": {
       "model_id": "4f76ed654de74b038d6f50a05600281d",
       "version_major": 2,
       "version_minor": 0
      },
      "text/plain": [
       "HBox(children=(IntProgress(value=0, max=6), HTML(value='')))"
      ]
     },
     "metadata": {},
     "output_type": "display_data"
    },
    {
     "name": "stdout",
     "output_type": "stream",
     "text": [
      "\n",
      "\n",
      "===== TRAIN MODEL =====\n"
     ]
    },
    {
     "data": {
      "application/vnd.jupyter.widget-view+json": {
       "model_id": "e00388b2ea554437acb379e1c86a70cb",
       "version_major": 2,
       "version_minor": 0
      },
      "text/plain": [
       "HBox(children=(IntProgress(value=0, description='Epoch', max=3), HTML(value='')))"
      ]
     },
     "metadata": {},
     "output_type": "display_data"
    },
    {
     "name": "stdout",
     "output_type": "stream",
     "text": [
      "epoch      trn_loss   val_loss   accuracy   \n",
      "    0      0.132657   0.117835   0.970383  \n",
      "    1      0.071228   0.086962   0.974274  \n",
      "    2      0.049216   0.073701   0.976652  \n",
      "\n",
      "\n",
      "===== TRAIN MODEL WITH LARGER IMAGES =====\n"
     ]
    },
    {
     "data": {
      "application/vnd.jupyter.widget-view+json": {
       "model_id": "6f617401ac504063b554bedb012580a0",
       "version_major": 2,
       "version_minor": 0
      },
      "text/plain": [
       "HBox(children=(IntProgress(value=0, description='Epoch', max=7), HTML(value='')))"
      ]
     },
     "metadata": {},
     "output_type": "display_data"
    },
    {
     "name": "stdout",
     "output_type": "stream",
     "text": [
      "epoch      trn_loss   val_loss   accuracy   \n",
      "    0      0.040643   0.07214    0.975643  \n",
      "    1      0.031487   0.065186   0.978598  \n",
      "    2      0.033643   0.065302   0.977949  \n",
      "    3      0.028923   0.064226   0.978742  \n",
      "    4      0.025334   0.058265   0.979462  \n",
      "    5      0.022893   0.059829   0.978958  \n",
      "    6      0.026923   0.058922   0.979823  \n",
      "Accuracy: 0.9798947899401887\n",
      "\n",
      "\n",
      "===== LAST OPTIMIZATION =====\n"
     ]
    },
    {
     "data": {
      "application/vnd.jupyter.widget-view+json": {
       "model_id": "cc80c7d8776f49f59c2ab786fe6aad8c",
       "version_major": 2,
       "version_minor": 0
      },
      "text/plain": [
       "HBox(children=(IntProgress(value=0, description='Epoch', max=2), HTML(value='')))"
      ]
     },
     "metadata": {},
     "output_type": "display_data"
    },
    {
     "name": "stdout",
     "output_type": "stream",
     "text": [
      "epoch      trn_loss   val_loss   accuracy   \n",
      "    0      0.027018   0.058663   0.979751  \n",
      "    1      0.023252   0.060479   0.979246  \n",
      "                                             \n",
      "Final Accuracy: 0.9793182964617713 \n",
      "\n"
     ]
    }
   ],
   "source": [
    "train_and_optimize(dn169)"
   ]
  },
  {
   "cell_type": "markdown",
   "metadata": {},
   "source": [
    "### DenseNet-201"
   ]
  },
  {
   "cell_type": "code",
   "execution_count": 57,
   "metadata": {},
   "outputs": [
    {
     "name": "stdout",
     "output_type": "stream",
     "text": [
      "===== RESIZING DATA =====\n"
     ]
    },
    {
     "data": {
      "application/vnd.jupyter.widget-view+json": {
       "model_id": "55698d32ecd345e5ac35b675f628450b",
       "version_major": 2,
       "version_minor": 0
      },
      "text/plain": [
       "HBox(children=(IntProgress(value=0, max=6), HTML(value='')))"
      ]
     },
     "metadata": {},
     "output_type": "display_data"
    },
    {
     "name": "stdout",
     "output_type": "stream",
     "text": [
      "\n",
      "\n",
      "===== TRAIN MODEL =====\n"
     ]
    },
    {
     "data": {
      "application/vnd.jupyter.widget-view+json": {
       "model_id": "89dc3d4f23854a51becce8371d307950",
       "version_major": 2,
       "version_minor": 0
      },
      "text/plain": [
       "HBox(children=(IntProgress(value=0, description='Epoch', max=3), HTML(value='')))"
      ]
     },
     "metadata": {},
     "output_type": "display_data"
    },
    {
     "name": "stdout",
     "output_type": "stream",
     "text": [
      "epoch      trn_loss   val_loss   accuracy   \n",
      "    0      0.129984   0.121944   0.968653  \n",
      "    1      0.070888   0.091456   0.972256  \n",
      "    2      0.046643   0.075461   0.975355  \n",
      "\n",
      "\n",
      "===== TRAIN MODEL WITH LARGER IMAGES =====\n"
     ]
    },
    {
     "data": {
      "application/vnd.jupyter.widget-view+json": {
       "model_id": "9c12865eb0f74e89b98a756c265b3959",
       "version_major": 2,
       "version_minor": 0
      },
      "text/plain": [
       "HBox(children=(IntProgress(value=0, description='Epoch', max=7), HTML(value='')))"
      ]
     },
     "metadata": {},
     "output_type": "display_data"
    },
    {
     "name": "stdout",
     "output_type": "stream",
     "text": [
      "epoch      trn_loss   val_loss   accuracy   \n",
      "    0      0.042583   0.071682   0.975643  \n",
      "    1      0.039764   0.069261   0.976652  \n",
      "    2      0.030097   0.066658   0.976868  \n",
      "    3      0.032517   0.067899   0.976868  \n",
      "    4      0.024931   0.061552   0.97867   \n",
      "    5      0.023765   0.059588   0.978958  \n",
      "    6      0.024132   0.062345   0.978021  \n",
      "Accuracy: 0.9780211861353318\n",
      "\n",
      "\n",
      "===== LAST OPTIMIZATION =====\n"
     ]
    },
    {
     "data": {
      "application/vnd.jupyter.widget-view+json": {
       "model_id": "f5f08e3a69da441783af043b2c14baaf",
       "version_major": 2,
       "version_minor": 0
      },
      "text/plain": [
       "HBox(children=(IntProgress(value=0, description='Epoch', max=2), HTML(value='')))"
      ]
     },
     "metadata": {},
     "output_type": "display_data"
    },
    {
     "name": "stdout",
     "output_type": "stream",
     "text": [
      "epoch      trn_loss   val_loss   accuracy   \n",
      "    0      0.027005   0.0629     0.978093  \n",
      "    1      0.023557   0.061257   0.978814  \n",
      "                                             \n",
      "Final Accuracy: 0.9788859263529581 \n",
      "\n"
     ]
    }
   ],
   "source": [
    "train_and_optimize(dn201)"
   ]
  },
  {
   "cell_type": "markdown",
   "metadata": {},
   "source": [
    "### WRN"
   ]
  },
  {
   "cell_type": "code",
   "execution_count": 59,
   "metadata": {},
   "outputs": [
    {
     "name": "stdout",
     "output_type": "stream",
     "text": [
      "===== RESIZING DATA =====\n"
     ]
    },
    {
     "data": {
      "application/vnd.jupyter.widget-view+json": {
       "model_id": "354cebd79a3a48b487c22a159b8fb13e",
       "version_major": 2,
       "version_minor": 0
      },
      "text/plain": [
       "HBox(children=(IntProgress(value=0, max=6), HTML(value='')))"
      ]
     },
     "metadata": {},
     "output_type": "display_data"
    },
    {
     "name": "stdout",
     "output_type": "stream",
     "text": [
      "\n",
      "\n",
      "===== TRAIN MODEL =====\n"
     ]
    },
    {
     "data": {
      "application/vnd.jupyter.widget-view+json": {
       "model_id": "230f70267cdd4f7a820becce782d90e9",
       "version_major": 2,
       "version_minor": 0
      },
      "text/plain": [
       "HBox(children=(IntProgress(value=0, description='Epoch', max=3), HTML(value='')))"
      ]
     },
     "metadata": {},
     "output_type": "display_data"
    },
    {
     "name": "stdout",
     "output_type": "stream",
     "text": [
      "epoch      trn_loss   val_loss   accuracy   \n",
      "    0      0.130171   0.124691   0.968221  \n",
      "    1      0.060065   0.091866   0.974346  \n",
      "    2      0.046622   0.069878   0.978814  \n",
      "\n",
      "\n",
      "===== TRAIN MODEL WITH LARGER IMAGES =====\n"
     ]
    },
    {
     "data": {
      "application/vnd.jupyter.widget-view+json": {
       "model_id": "babf9b6ca58e4b719e02b37e3a06c722",
       "version_major": 2,
       "version_minor": 0
      },
      "text/plain": [
       "HBox(children=(IntProgress(value=0, description='Epoch', max=7), HTML(value='')))"
      ]
     },
     "metadata": {},
     "output_type": "display_data"
    },
    {
     "name": "stdout",
     "output_type": "stream",
     "text": [
      "epoch      trn_loss   val_loss   accuracy   \n",
      "    0      0.035313   0.071067   0.977229  \n",
      "    1      0.033319   0.066811   0.978381  \n",
      "    2      0.03324    0.06634    0.978598  \n",
      "    3      0.032697   0.066464   0.977084  \n",
      "    4      0.024343   0.063026   0.977733  \n",
      "    5      0.024774   0.061639   0.978814  \n",
      "    6      0.021754   0.060385   0.978742  \n",
      "Accuracy: 0.9787418029833538\n",
      "\n",
      "\n",
      "===== LAST OPTIMIZATION =====\n"
     ]
    },
    {
     "data": {
      "application/vnd.jupyter.widget-view+json": {
       "model_id": "6aa63e2b672a4902b4f71b384a47d12d",
       "version_major": 2,
       "version_minor": 0
      },
      "text/plain": [
       "HBox(children=(IntProgress(value=0, description='Epoch', max=2), HTML(value='')))"
      ]
     },
     "metadata": {},
     "output_type": "display_data"
    },
    {
     "name": "stdout",
     "output_type": "stream",
     "text": [
      "epoch      trn_loss   val_loss   accuracy   \n",
      "    0      0.023065   0.061247   0.978454  \n",
      "    1      0.023451   0.062575   0.978814  \n",
      "                                             \n",
      "Final Accuracy: 0.9789579880377604 \n",
      "\n"
     ]
    }
   ],
   "source": [
    "train_and_optimize(wrn)"
   ]
  },
  {
   "cell_type": "markdown",
   "metadata": {},
   "source": [
    "### Inception ResNet v2"
   ]
  },
  {
   "cell_type": "code",
   "execution_count": 61,
   "metadata": {},
   "outputs": [
    {
     "name": "stdout",
     "output_type": "stream",
     "text": [
      "===== RESIZING DATA =====\n"
     ]
    },
    {
     "data": {
      "application/vnd.jupyter.widget-view+json": {
       "model_id": "1fb20d6536d2413ea3d4c2f55f482bf8",
       "version_major": 2,
       "version_minor": 0
      },
      "text/plain": [
       "HBox(children=(IntProgress(value=0, max=6), HTML(value='')))"
      ]
     },
     "metadata": {},
     "output_type": "display_data"
    },
    {
     "name": "stdout",
     "output_type": "stream",
     "text": [
      "\n",
      "\n",
      "===== TRAIN MODEL =====\n"
     ]
    },
    {
     "data": {
      "application/vnd.jupyter.widget-view+json": {
       "model_id": "96d59d9a3b0f4c7b9504469c943f0497",
       "version_major": 2,
       "version_minor": 0
      },
      "text/plain": [
       "HBox(children=(IntProgress(value=0, description='Epoch', max=3), HTML(value='')))"
      ]
     },
     "metadata": {},
     "output_type": "display_data"
    },
    {
     "name": "stdout",
     "output_type": "stream",
     "text": [
      "epoch      trn_loss   val_loss   accuracy   \n",
      "    0      0.123538   0.122619   0.969086  \n",
      "    1      0.059565   0.090222   0.97485   \n",
      "    2      0.044765   0.075376   0.977012  \n",
      "\n",
      "\n",
      "===== TRAIN MODEL WITH LARGER IMAGES =====\n"
     ]
    },
    {
     "data": {
      "application/vnd.jupyter.widget-view+json": {
       "model_id": "3385e7f585db4931a9646af39057a157",
       "version_major": 2,
       "version_minor": 0
      },
      "text/plain": [
       "HBox(children=(IntProgress(value=0, description='Epoch', max=7), HTML(value='')))"
      ]
     },
     "metadata": {},
     "output_type": "display_data"
    },
    {
     "name": "stdout",
     "output_type": "stream",
     "text": [
      "epoch      trn_loss   val_loss   accuracy   \n",
      "    0      0.040438   0.07688    0.976508  \n",
      "    1      0.031566   0.067427   0.979174  \n",
      "    2      0.028845   0.068464   0.977949  \n",
      "    3      0.028484   0.069013   0.977301  \n",
      "    4      0.025213   0.067224   0.978454  \n",
      "    5      0.026003   0.062603   0.979607  \n",
      "    6      0.020512   0.064074   0.979246  \n",
      "Accuracy: 0.979246234776969\n",
      "\n",
      "\n",
      "===== LAST OPTIMIZATION =====\n"
     ]
    },
    {
     "data": {
      "application/vnd.jupyter.widget-view+json": {
       "model_id": "ecc0a53baaa947e5af135492e997bb20",
       "version_major": 2,
       "version_minor": 0
      },
      "text/plain": [
       "HBox(children=(IntProgress(value=0, description='Epoch', max=2), HTML(value='')))"
      ]
     },
     "metadata": {},
     "output_type": "display_data"
    },
    {
     "name": "stdout",
     "output_type": "stream",
     "text": [
      "epoch      trn_loss   val_loss   accuracy   \n",
      "    0      0.021674   0.066148   0.978381  \n",
      "    1      0.020161   0.064629   0.978093  \n",
      "                                             \n",
      "Final Accuracy: 0.9780932478201341 \n",
      "\n"
     ]
    }
   ],
   "source": [
    "train_and_optimize(inceptionresnet_2)"
   ]
  },
  {
   "cell_type": "markdown",
   "metadata": {},
   "source": [
    "### Inception v4"
   ]
  },
  {
   "cell_type": "code",
   "execution_count": 63,
   "metadata": {},
   "outputs": [
    {
     "name": "stdout",
     "output_type": "stream",
     "text": [
      "===== RESIZING DATA =====\n"
     ]
    },
    {
     "data": {
      "application/vnd.jupyter.widget-view+json": {
       "model_id": "df6c252f3d7b45a6ac5f5a14606f7122",
       "version_major": 2,
       "version_minor": 0
      },
      "text/plain": [
       "HBox(children=(IntProgress(value=0, max=6), HTML(value='')))"
      ]
     },
     "metadata": {},
     "output_type": "display_data"
    },
    {
     "name": "stdout",
     "output_type": "stream",
     "text": [
      "\n",
      "\n",
      "===== TRAIN MODEL =====\n"
     ]
    },
    {
     "data": {
      "application/vnd.jupyter.widget-view+json": {
       "model_id": "4be8d56bd1e946bdb3042156182cde4f",
       "version_major": 2,
       "version_minor": 0
      },
      "text/plain": [
       "HBox(children=(IntProgress(value=0, description='Epoch', max=3), HTML(value='')))"
      ]
     },
     "metadata": {},
     "output_type": "display_data"
    },
    {
     "name": "stdout",
     "output_type": "stream",
     "text": [
      "epoch      trn_loss   val_loss   accuracy   \n",
      "    0      0.133613   0.124314   0.968005  \n",
      "    1      0.062855   0.089443   0.973553  \n",
      "    2      0.050996   0.081126   0.974995  \n",
      "\n",
      "\n",
      "===== TRAIN MODEL WITH LARGER IMAGES =====\n"
     ]
    },
    {
     "data": {
      "application/vnd.jupyter.widget-view+json": {
       "model_id": "712e3a00a49b456f89b6432a5e2282f2",
       "version_major": 2,
       "version_minor": 0
      },
      "text/plain": [
       "HBox(children=(IntProgress(value=0, description='Epoch', max=7), HTML(value='')))"
      ]
     },
     "metadata": {},
     "output_type": "display_data"
    },
    {
     "name": "stdout",
     "output_type": "stream",
     "text": [
      "epoch      trn_loss   val_loss   accuracy   \n",
      "    0      0.03919    0.074661   0.976508  \n",
      "    1      0.035969   0.067986   0.978814  \n",
      "    2      0.033559   0.068111   0.978454  \n",
      "    3      0.03199    0.063309   0.978598  \n",
      "    4      0.024808   0.065589   0.978021  \n",
      "    5      0.026958   0.065322   0.978165  \n",
      "    6      0.022788   0.063533   0.97867   \n",
      "Accuracy: 0.9787418029833538\n",
      "\n",
      "\n",
      "===== LAST OPTIMIZATION =====\n"
     ]
    },
    {
     "data": {
      "application/vnd.jupyter.widget-view+json": {
       "model_id": "7d1a8e24dea54beda3bfd3dbfe8983ae",
       "version_major": 2,
       "version_minor": 0
      },
      "text/plain": [
       "HBox(children=(IntProgress(value=0, description='Epoch', max=2), HTML(value='')))"
      ]
     },
     "metadata": {},
     "output_type": "display_data"
    },
    {
     "name": "stdout",
     "output_type": "stream",
     "text": [
      "epoch      trn_loss   val_loss   accuracy   \n",
      "    0      0.026016   0.063963   0.978814  \n",
      "    1      0.022354   0.060259   0.979246  \n",
      "                                             \n",
      "Final Accuracy: 0.979246234776969 \n",
      "\n"
     ]
    }
   ],
   "source": [
    "train_and_optimize(inception_4)"
   ]
  },
  {
   "cell_type": "markdown",
   "metadata": {},
   "source": [
    "### ResNet-152"
   ]
  },
  {
   "cell_type": "code",
   "execution_count": 64,
   "metadata": {},
   "outputs": [
    {
     "name": "stdout",
     "output_type": "stream",
     "text": [
      "===== RESIZING DATA =====\n"
     ]
    },
    {
     "data": {
      "application/vnd.jupyter.widget-view+json": {
       "model_id": "2d79f48c1adc47c18a1e3b3f864a5eee",
       "version_major": 2,
       "version_minor": 0
      },
      "text/plain": [
       "HBox(children=(IntProgress(value=0, max=6), HTML(value='')))"
      ]
     },
     "metadata": {},
     "output_type": "display_data"
    },
    {
     "name": "stdout",
     "output_type": "stream",
     "text": [
      "\n",
      "\n",
      "===== TRAIN MODEL =====\n"
     ]
    },
    {
     "data": {
      "application/vnd.jupyter.widget-view+json": {
       "model_id": "70582a339b084aaca12ae00b7bd6b165",
       "version_major": 2,
       "version_minor": 0
      },
      "text/plain": [
       "HBox(children=(IntProgress(value=0, description='Epoch', max=3), HTML(value='')))"
      ]
     },
     "metadata": {},
     "output_type": "display_data"
    },
    {
     "name": "stdout",
     "output_type": "stream",
     "text": [
      "epoch      trn_loss   val_loss   accuracy   \n",
      "    0      0.135087   0.131804   0.966203  \n",
      "    1      0.066964   0.091762   0.971752  \n",
      "    2      0.046037   0.078712   0.974562  \n",
      "\n",
      "\n",
      "===== TRAIN MODEL WITH LARGER IMAGES =====\n"
     ]
    },
    {
     "data": {
      "application/vnd.jupyter.widget-view+json": {
       "model_id": "df474c4c735f4cfabcb1b38a8b6405b1",
       "version_major": 2,
       "version_minor": 0
      },
      "text/plain": [
       "HBox(children=(IntProgress(value=0, description='Epoch', max=7), HTML(value='')))"
      ]
     },
     "metadata": {},
     "output_type": "display_data"
    },
    {
     "name": "stdout",
     "output_type": "stream",
     "text": [
      "epoch      trn_loss   val_loss   accuracy   \n",
      "    0      0.042993   0.067906   0.977084  \n",
      "    1      0.034606   0.068561   0.976508  \n",
      "    2      0.035145   0.067817   0.977661  \n",
      "    3      0.029042   0.064637   0.977805  \n",
      "    4      0.024455   0.063079   0.977949  \n",
      "    5      0.025621   0.062289   0.977733  \n",
      "    6      0.027552   0.05932    0.978958  \n",
      "Accuracy: 0.9789579880377604\n",
      "\n",
      "\n",
      "===== LAST OPTIMIZATION =====\n"
     ]
    },
    {
     "data": {
      "application/vnd.jupyter.widget-view+json": {
       "model_id": "d8067ed5922b4da48c3c42d45ed20402",
       "version_major": 2,
       "version_minor": 0
      },
      "text/plain": [
       "HBox(children=(IntProgress(value=0, description='Epoch', max=2), HTML(value='')))"
      ]
     },
     "metadata": {},
     "output_type": "display_data"
    },
    {
     "name": "stdout",
     "output_type": "stream",
     "text": [
      "epoch      trn_loss   val_loss   accuracy   \n",
      "    0      0.024151   0.057077   0.979751  \n",
      "    1      0.024096   0.056866   0.97939   \n",
      "                                             \n",
      "Final Accuracy: 0.9794624198313756 \n",
      "\n"
     ]
    }
   ],
   "source": [
    "train_and_optimize(resnet152)"
   ]
  },
  {
   "cell_type": "markdown",
   "metadata": {},
   "source": [
    "## Architecture Performance Summary"
   ]
  },
  {
   "cell_type": "code",
   "execution_count": 82,
   "metadata": {},
   "outputs": [],
   "source": [
    "perf_summary = pd.DataFrame([\n",
    "    {'Architecture': 'VGG-16', 'Train Loss': 0.019354, 'Validation Loss': 0.060486, 'Accuracy': 0.977877},\n",
    "    {'Architecture': 'VGG-19', 'Train Loss': 0.02213, 'Validation Loss': 0.063882, 'Accuracy': 0.977877},\n",
    "    {'Architecture': 'ResNet-18', 'Train Loss': 0.02267, 'Validation Loss': 0.057463, 'Accuracy': 0.979174},\n",
    "    {'Architecture': 'ResNet-34', 'Train Loss': 0.023858, 'Validation Loss': 0.065129, 'Accuracy': 0.976796},\n",
    "    {'Architecture': 'ResNet-50', 'Train Loss': 0.022104, 'Validation Loss': 0.053344, 'Accuracy': 0.981552},\n",
    "    {'Architecture': 'ResNet-101', 'Train Loss': 0.023081, 'Validation Loss': 0.052217, 'Accuracy': 0.981768},\n",
    "    {'Architecture': 'ResNet-152', 'Train Loss': 0.024096, 'Validation Loss': 0.056866, 'Accuracy': 0.97939},\n",
    "    {'Architecture': 'ResNeXt-50', 'Train Loss': 0.023435, 'Validation Loss': 0.05945, 'Accuracy': 0.978958},\n",
    "    {'Architecture': 'ResNeXt-101 (32)', 'Train Loss': 0.021045, 'Validation Loss': 0.058353, 'Accuracy': 0.980111},\n",
    "    {'Architecture': 'ResNeXt-101 (64)', 'Train Loss': 0.020867, 'Validation Loss': 0.055556, 'Accuracy': 0.980327},\n",
    "    {'Architecture': 'DenseNet121', 'Train Loss': 0.020205, 'Validation Loss': 0.066293, 'Accuracy': 0.976508},\n",
    "    {'Architecture': 'DenseNet161', 'Train Loss': 0.022258, 'Validation Loss': 0.06499, 'Accuracy': 0.977156},\n",
    "    {'Architecture': 'DenseNet169', 'Train Loss': 0.023252, 'Validation Loss': 0.060479, 'Accuracy': 0.979246},\n",
    "    {'Architecture': 'DenseNet201', 'Train Loss': 0.023557, 'Validation Loss': 0.061257, 'Accuracy': 0.978814},\n",
    "    {'Architecture': 'WRN', 'Train Loss': 0.023451, 'Validation Loss': 0.062575, 'Accuracy': 0.978814},\n",
    "    {'Architecture': 'Inception-ResNet v2', 'Train Loss': 0.020161, 'Validation Loss': 0.064629, 'Accuracy': 0.978093},\n",
    "    {'Architecture': 'Inception v4', 'Train Loss': 0.022354, 'Validation Loss': 0.060259, 'Accuracy': 0.979246}\n",
    "])"
   ]
  },
  {
   "cell_type": "code",
   "execution_count": 83,
   "metadata": {},
   "outputs": [
    {
     "data": {
      "text/html": [
       "<div>\n",
       "<style scoped>\n",
       "    .dataframe tbody tr th:only-of-type {\n",
       "        vertical-align: middle;\n",
       "    }\n",
       "\n",
       "    .dataframe tbody tr th {\n",
       "        vertical-align: top;\n",
       "    }\n",
       "\n",
       "    .dataframe thead th {\n",
       "        text-align: right;\n",
       "    }\n",
       "</style>\n",
       "<table border=\"1\" class=\"dataframe\">\n",
       "  <thead>\n",
       "    <tr style=\"text-align: right;\">\n",
       "      <th></th>\n",
       "      <th>Accuracy</th>\n",
       "      <th>Train Loss</th>\n",
       "      <th>Validation Loss</th>\n",
       "    </tr>\n",
       "    <tr>\n",
       "      <th>Architecture</th>\n",
       "      <th></th>\n",
       "      <th></th>\n",
       "      <th></th>\n",
       "    </tr>\n",
       "  </thead>\n",
       "  <tbody>\n",
       "    <tr>\n",
       "      <th>ResNet-101</th>\n",
       "      <td>0.981768</td>\n",
       "      <td>0.023081</td>\n",
       "      <td>0.052217</td>\n",
       "    </tr>\n",
       "    <tr>\n",
       "      <th>ResNet-50</th>\n",
       "      <td>0.981552</td>\n",
       "      <td>0.022104</td>\n",
       "      <td>0.053344</td>\n",
       "    </tr>\n",
       "    <tr>\n",
       "      <th>ResNeXt-101 (64)</th>\n",
       "      <td>0.980327</td>\n",
       "      <td>0.020867</td>\n",
       "      <td>0.055556</td>\n",
       "    </tr>\n",
       "    <tr>\n",
       "      <th>ResNeXt-101 (32)</th>\n",
       "      <td>0.980111</td>\n",
       "      <td>0.021045</td>\n",
       "      <td>0.058353</td>\n",
       "    </tr>\n",
       "    <tr>\n",
       "      <th>ResNet-152</th>\n",
       "      <td>0.979390</td>\n",
       "      <td>0.024096</td>\n",
       "      <td>0.056866</td>\n",
       "    </tr>\n",
       "    <tr>\n",
       "      <th>DenseNet169</th>\n",
       "      <td>0.979246</td>\n",
       "      <td>0.023252</td>\n",
       "      <td>0.060479</td>\n",
       "    </tr>\n",
       "    <tr>\n",
       "      <th>Inception v4</th>\n",
       "      <td>0.979246</td>\n",
       "      <td>0.022354</td>\n",
       "      <td>0.060259</td>\n",
       "    </tr>\n",
       "    <tr>\n",
       "      <th>ResNet-18</th>\n",
       "      <td>0.979174</td>\n",
       "      <td>0.022670</td>\n",
       "      <td>0.057463</td>\n",
       "    </tr>\n",
       "    <tr>\n",
       "      <th>ResNeXt-50</th>\n",
       "      <td>0.978958</td>\n",
       "      <td>0.023435</td>\n",
       "      <td>0.059450</td>\n",
       "    </tr>\n",
       "    <tr>\n",
       "      <th>DenseNet201</th>\n",
       "      <td>0.978814</td>\n",
       "      <td>0.023557</td>\n",
       "      <td>0.061257</td>\n",
       "    </tr>\n",
       "    <tr>\n",
       "      <th>WRN</th>\n",
       "      <td>0.978814</td>\n",
       "      <td>0.023451</td>\n",
       "      <td>0.062575</td>\n",
       "    </tr>\n",
       "    <tr>\n",
       "      <th>Inception-ResNet v2</th>\n",
       "      <td>0.978093</td>\n",
       "      <td>0.020161</td>\n",
       "      <td>0.064629</td>\n",
       "    </tr>\n",
       "    <tr>\n",
       "      <th>VGG-19</th>\n",
       "      <td>0.977877</td>\n",
       "      <td>0.022130</td>\n",
       "      <td>0.063882</td>\n",
       "    </tr>\n",
       "    <tr>\n",
       "      <th>VGG-16</th>\n",
       "      <td>0.977877</td>\n",
       "      <td>0.019354</td>\n",
       "      <td>0.060486</td>\n",
       "    </tr>\n",
       "    <tr>\n",
       "      <th>DenseNet161</th>\n",
       "      <td>0.977156</td>\n",
       "      <td>0.022258</td>\n",
       "      <td>0.064990</td>\n",
       "    </tr>\n",
       "    <tr>\n",
       "      <th>ResNet-34</th>\n",
       "      <td>0.976796</td>\n",
       "      <td>0.023858</td>\n",
       "      <td>0.065129</td>\n",
       "    </tr>\n",
       "    <tr>\n",
       "      <th>DenseNet121</th>\n",
       "      <td>0.976508</td>\n",
       "      <td>0.020205</td>\n",
       "      <td>0.066293</td>\n",
       "    </tr>\n",
       "  </tbody>\n",
       "</table>\n",
       "</div>"
      ],
      "text/plain": [
       "                     Accuracy  Train Loss  Validation Loss\n",
       "Architecture                                              \n",
       "ResNet-101           0.981768    0.023081         0.052217\n",
       "ResNet-50            0.981552    0.022104         0.053344\n",
       "ResNeXt-101 (64)     0.980327    0.020867         0.055556\n",
       "ResNeXt-101 (32)     0.980111    0.021045         0.058353\n",
       "ResNet-152           0.979390    0.024096         0.056866\n",
       "DenseNet169          0.979246    0.023252         0.060479\n",
       "Inception v4         0.979246    0.022354         0.060259\n",
       "ResNet-18            0.979174    0.022670         0.057463\n",
       "ResNeXt-50           0.978958    0.023435         0.059450\n",
       "DenseNet201          0.978814    0.023557         0.061257\n",
       "WRN                  0.978814    0.023451         0.062575\n",
       "Inception-ResNet v2  0.978093    0.020161         0.064629\n",
       "VGG-19               0.977877    0.022130         0.063882\n",
       "VGG-16               0.977877    0.019354         0.060486\n",
       "DenseNet161          0.977156    0.022258         0.064990\n",
       "ResNet-34            0.976796    0.023858         0.065129\n",
       "DenseNet121          0.976508    0.020205         0.066293"
      ]
     },
     "execution_count": 83,
     "metadata": {},
     "output_type": "execute_result"
    }
   ],
   "source": [
    "perf_summary.index = perf_summary.Architecture\n",
    "perf_summary = perf_summary.drop('Architecture', axis = 1)\n",
    "perf_summary.sort_values('Accuracy', ascending = False)"
   ]
  },
  {
   "cell_type": "code",
   "execution_count": 84,
   "metadata": {},
   "outputs": [
    {
     "data": {
      "image/png": "[encoded data removed]",
      "text/plain": [
       "<Figure size 432x288 with 1 Axes>"
      ]
     },
     "metadata": {},
     "output_type": "display_data"
    }
   ],
   "source": [
    "perf_summary.plot(x = 'Accuracy', y = 'Train Loss', kind = 'scatter',\n",
    "                  xlim = (0.975, 0.9825), ylim = (0.0175, 0.025)\n",
    "                 );"
   ]
  },
  {
   "cell_type": "code",
   "execution_count": 85,
   "metadata": {},
   "outputs": [
    {
     "data": {
      "image/png": "[encoded data removed]",
      "text/plain": [
       "<Figure size 432x288 with 1 Axes>"
      ]
     },
     "metadata": {},
     "output_type": "display_data"
    }
   ],
   "source": [
    "perf_summary.plot(x = 'Accuracy', y = 'Validation Loss', kind = 'scatter',\n",
    "                  xlim = (0.975, 0.9825), ylim = (0.05, 0.0675)\n",
    "                 );"
   ]
  },
  {
   "cell_type": "markdown",
   "metadata": {},
   "source": [
    "## Further Optimizations"
   ]
  },
  {
   "cell_type": "code",
   "execution_count": 4,
   "metadata": {},
   "outputs": [
    {
     "data": {
      "application/vnd.jupyter.widget-view+json": {
       "model_id": "8d102aaa5281441fb41410e455f2b65b",
       "version_major": 2,
       "version_minor": 0
      },
      "text/plain": [
       "HBox(children=(IntProgress(value=0, max=6), HTML(value='')))"
      ]
     },
     "metadata": {},
     "output_type": "display_data"
    },
    {
     "name": "stdout",
     "output_type": "stream",
     "text": [
      "\n"
     ]
    }
   ],
   "source": [
    "data = get_data(224)\n",
    "sz = 64\n",
    "\n",
    "data = data.resize(int(sz * 1.3), '/tmp')\n",
    "\n",
    "# init model\n",
    "learn = ConvLearner.pretrained(f = resnet101, data = data, precompute = True)"
   ]
  },
  {
   "cell_type": "code",
   "execution_count": 5,
   "metadata": {},
   "outputs": [
    {
     "data": {
      "application/vnd.jupyter.widget-view+json": {
       "model_id": "7114ef57ba9643b2b5a0a04a0b3d555b",
       "version_major": 2,
       "version_minor": 0
      },
      "text/plain": [
       "HBox(children=(IntProgress(value=0, description='Epoch', max=3), HTML(value='')))"
      ]
     },
     "metadata": {},
     "output_type": "display_data"
    },
    {
     "name": "stdout",
     "output_type": "stream",
     "text": [
      "epoch      trn_loss   val_loss   accuracy   \n",
      "    0      0.060093   0.0894     0.974706  \n",
      "    1      0.032856   0.067015   0.979967  \n",
      "    2      0.019797   0.056702   0.980904  \n",
      "\n"
     ]
    },
    {
     "data": {
      "text/plain": [
       "[array([0.0567]), 0.9809036535274195]"
      ]
     },
     "execution_count": 5,
     "metadata": {},
     "output_type": "execute_result"
    }
   ],
   "source": [
    "# init train\n",
    "learn.fit(lrs = 0.01, n_cycle = 3)"
   ]
  },
  {
   "cell_type": "code",
   "execution_count": 6,
   "metadata": {},
   "outputs": [
    {
     "data": {
      "application/vnd.jupyter.widget-view+json": {
       "model_id": "9b00b7326fcc46e284c32309b5768842",
       "version_major": 2,
       "version_minor": 0
      },
      "text/plain": [
       "HBox(children=(IntProgress(value=0, description='Epoch', max=7), HTML(value='')))"
      ]
     },
     "metadata": {},
     "output_type": "display_data"
    },
    {
     "name": "stdout",
     "output_type": "stream",
     "text": [
      "epoch      trn_loss   val_loss   accuracy   \n",
      "    0      0.085409   0.053716   0.979751  \n",
      "    1      0.057685   0.047283   0.982777  \n",
      "    2      0.044184   0.046884   0.98112   \n",
      "    3      0.042161   0.04315    0.982417  \n",
      "    4      0.030323   0.039698   0.985227  \n",
      "    5      0.03026    0.036925   0.986741  \n",
      "    6      0.029818   0.037711   0.985444  \n",
      "\n"
     ]
    },
    {
     "data": {
      "text/plain": [
       "[array([0.03771]), 0.9854435396699575]"
      ]
     },
     "execution_count": 6,
     "metadata": {},
     "output_type": "execute_result"
    }
   ],
   "source": [
    "# unfreeze the network and use differential lrs to slightly optimize the earlier layer groups\n",
    "learn.unfreeze()\n",
    "#learn.bn_freeze() <-- DID NOT DO THIS, BUT MAYBE SHOULD\n",
    "lrs = np.array([1e-4, 1e-3, 1e-2])\n",
    "\n",
    "# fit whole model with differential learning rates, restarts, lr cosine annealing\n",
    "learn.fit(lrs,\n",
    "          n_cycle = 3,     # number of restarts\n",
    "          cycle_len = 1,   # init number of epochs to reach lowest lr (as deter. by cosine annealing)\n",
    "          cycle_mult = 2   # multiplier of cycle len after each cycle\n",
    "         )                 # in this case: cycle 1: 1 epoch, cycle 2: 2 epochs, cycle 3: 4 epochs"
   ]
  },
  {
   "cell_type": "code",
   "execution_count": 19,
   "metadata": {},
   "outputs": [],
   "source": [
    "learn.save('/floyd/home/models/resnet101_optim_1')"
   ]
  },
  {
   "cell_type": "code",
   "execution_count": 6,
   "metadata": {},
   "outputs": [],
   "source": []
  },
  {
   "cell_type": "code",
   "execution_count": 7,
   "metadata": {},
   "outputs": [
    {
     "data": {
      "application/vnd.jupyter.widget-view+json": {
       "model_id": "9ef99012490848c2a04addc1b09ecc53",
       "version_major": 2,
       "version_minor": 0
      },
      "text/plain": [
       "HBox(children=(IntProgress(value=0, max=6), HTML(value='')))"
      ]
     },
     "metadata": {},
     "output_type": "display_data"
    },
    {
     "name": "stdout",
     "output_type": "stream",
     "text": [
      "\n"
     ]
    }
   ],
   "source": [
    "data = get_data(224)\n",
    "sz = 64\n",
    "\n",
    "data = data.resize(int(sz * 1.3), '/tmp')\n",
    "\n",
    "# init model\n",
    "learn = ConvLearner.pretrained(f = resnet101, data = data)#, precompute = True)"
   ]
  },
  {
   "cell_type": "code",
   "execution_count": 8,
   "metadata": {},
   "outputs": [],
   "source": [
    "learn.load('/floyd/home/models/resnet101_optim_1')"
   ]
  },
  {
   "cell_type": "code",
   "execution_count": 12,
   "metadata": {},
   "outputs": [],
   "source": [
    "sz*=2\n",
    "\n",
    "# fit final layer with larger images\n",
    "learn.set_data(get_data(sz))\n",
    "learn.freeze()"
   ]
  },
  {
   "cell_type": "code",
   "execution_count": 14,
   "metadata": {},
   "outputs": [
    {
     "data": {
      "application/vnd.jupyter.widget-view+json": {
       "model_id": "8a020aa72ee8474d8aac9af7562f5a87",
       "version_major": 2,
       "version_minor": 0
      },
      "text/plain": [
       "HBox(children=(IntProgress(value=0, description='Epoch', max=7), HTML(value='')))"
      ]
     },
     "metadata": {},
     "output_type": "display_data"
    },
    {
     "name": "stdout",
     "output_type": "stream",
     "text": [
      "epoch      trn_loss   val_loss   accuracy   \n",
      "    0      0.072596   0.063141   0.978886  \n",
      "    1      0.048897   0.051128   0.980904  \n",
      "    2      0.038284   0.045813   0.983714  \n",
      "    3      0.033814   0.04828    0.980615  \n",
      "    4      0.028535   0.044673   0.984074  \n",
      "    5      0.028105   0.041427   0.984363  \n",
      "    6      0.025426   0.040234   0.984939  \n",
      "\n"
     ]
    },
    {
     "data": {
      "text/plain": [
       "[array([0.04023]), 0.9849391078763422]"
      ]
     },
     "execution_count": 14,
     "metadata": {},
     "output_type": "execute_result"
    }
   ],
   "source": [
    "learn.fit(lrs = 0.01, n_cycle = 3, cycle_len = 1, cycle_mult = 2)"
   ]
  },
  {
   "cell_type": "code",
   "execution_count": 15,
   "metadata": {},
   "outputs": [],
   "source": [
    "learn.save('/floyd/home/models/resnet101_optim_2')"
   ]
  },
  {
   "cell_type": "code",
   "execution_count": 18,
   "metadata": {},
   "outputs": [],
   "source": [
    "learn.load('/floyd/home/models/resnet101_optim_2')"
   ]
  },
  {
   "cell_type": "code",
   "execution_count": 19,
   "metadata": {},
   "outputs": [
    {
     "data": {
      "application/vnd.jupyter.widget-view+json": {
       "model_id": "6624ff29f1f840f4947958ce891da976",
       "version_major": 2,
       "version_minor": 0
      },
      "text/plain": [
       "HBox(children=(IntProgress(value=0, description='Epoch', max=7), HTML(value='')))"
      ]
     },
     "metadata": {},
     "output_type": "display_data"
    },
    {
     "name": "stdout",
     "output_type": "stream",
     "text": [
      "epoch      trn_loss   val_loss   accuracy   \n",
      "    0      0.02213    0.029737   0.987822  \n",
      "    1      0.014585   0.024609   0.989191  \n",
      "    2      0.014233   0.02637    0.988975  \n",
      "    3      0.009572   0.024995   0.989839  \n",
      "    4      0.011934   0.025427   0.990128  \n",
      "    5      0.011239   0.02511    0.989839  \n",
      "    6      0.012425   0.024528   0.989983  \n",
      "\n"
     ]
    },
    {
     "data": {
      "text/plain": [
       "[array([0.02453]), 0.9899834258124955]"
      ]
     },
     "execution_count": 19,
     "metadata": {},
     "output_type": "execute_result"
    }
   ],
   "source": [
    "learn.unfreeze()\n",
    "learn.fit(lrs, n_cycle = 3, cycle_len = 1, cycle_mult = 2, best_save_name='resnet101_optim_best')"
   ]
  },
  {
   "cell_type": "code",
   "execution_count": 22,
   "metadata": {},
   "outputs": [],
   "source": [
    "learn.save('/floyd/home/models/resnet101_optim_3')"
   ]
  },
  {
   "cell_type": "code",
   "execution_count": 23,
   "metadata": {},
   "outputs": [
    {
     "name": "stdout",
     "output_type": "stream",
     "text": [
      "Accuracy: 0.9903437342365065\n"
     ]
    }
   ],
   "source": [
    "log_preds, y = learn.TTA()\n",
    "probs = np.mean(np.exp(log_preds),0)\n",
    "print('Accuracy:', accuracy_np(probs, y))"
   ]
  },
  {
   "cell_type": "code",
   "execution_count": 24,
   "metadata": {},
   "outputs": [
    {
     "data": {
      "image/png": "[encoded data removed]",
      "text/plain": [
       "<Figure size 432x288 with 1 Axes>"
      ]
     },
     "metadata": {},
     "output_type": "display_data"
    }
   ],
   "source": [
    "learn.sched.plot_loss()"
   ]
  },
  {
   "cell_type": "code",
   "execution_count": 29,
   "metadata": {},
   "outputs": [],
   "source": [
    "learn.load('resnet101_optim_best')"
   ]
  },
  {
   "cell_type": "code",
   "execution_count": 30,
   "metadata": {},
   "outputs": [
    {
     "data": {
      "application/vnd.jupyter.widget-view+json": {
       "model_id": "1f80466c58604f52862950ef7e4347a9",
       "version_major": 2,
       "version_minor": 0
      },
      "text/plain": [
       "HBox(children=(IntProgress(value=0, description='Epoch', max=7), HTML(value='')))"
      ]
     },
     "metadata": {},
     "output_type": "display_data"
    },
    {
     "name": "stdout",
     "output_type": "stream",
     "text": [
      "epoch      trn_loss   val_loss   accuracy   \n",
      "    0      0.031001   0.021974   0.98883   \n",
      "    1      0.020801   0.02177    0.988975  \n",
      "    2      0.024431   0.020929   0.988903  \n",
      "    3      0.02065    0.019331   0.990344  \n",
      "    4      0.016477   0.018891   0.989623  \n",
      "    5      0.016007   0.019088   0.989695  \n",
      "    6      0.01501    0.019417   0.989623  \n"
     ]
    },
    {
     "data": {
      "text/plain": [
       "[array([0.01942]), 0.9896231173884845]"
      ]
     },
     "execution_count": 30,
     "metadata": {},
     "output_type": "execute_result"
    }
   ],
   "source": [
    "sz*=2\n",
    "\n",
    "# fit final layer with larger images\n",
    "learn.set_data(get_data(sz))\n",
    "learn.freeze()\n",
    "\n",
    "learn.fit(0.01, n_cycle = 3, cycle_len = 1, cycle_mult = 2, best_save_name='/floyd/home/models/resnet101_optim_best_2')"
   ]
  },
  {
   "cell_type": "code",
   "execution_count": 31,
   "metadata": {},
   "outputs": [],
   "source": [
    "learn.save('/floyd/home/models/resnet101_optim_4')"
   ]
  },
  {
   "cell_type": "code",
   "execution_count": 34,
   "metadata": {},
   "outputs": [],
   "source": [
    "learn.load('/floyd/home/models/resnet101_optim_best_2')"
   ]
  },
  {
   "cell_type": "code",
   "execution_count": 35,
   "metadata": {},
   "outputs": [
    {
     "data": {
      "application/vnd.jupyter.widget-view+json": {
       "model_id": "ce6b82c629684411992f7226a9b71acd",
       "version_major": 2,
       "version_minor": 0
      },
      "text/plain": [
       "HBox(children=(IntProgress(value=0, description='Epoch', max=7), HTML(value='')))"
      ]
     },
     "metadata": {},
     "output_type": "display_data"
    },
    {
     "name": "stdout",
     "output_type": "stream",
     "text": [
      "epoch      trn_loss   val_loss   accuracy   \n",
      "    0      0.013142   0.017849   0.990632  \n",
      "    1      0.011643   0.021521   0.989695  \n",
      "    2      0.011658   0.019389   0.99092   \n",
      "    3      0.011299   0.02022    0.990776  \n",
      "    4      0.009914   0.021156   0.990776  \n",
      "    5      0.007739   0.020686   0.99092   \n",
      "    6      0.009444   0.020471   0.991064  \n"
     ]
    },
    {
     "data": {
      "text/plain": [
       "[array([0.02047]), 0.9910643510845284]"
      ]
     },
     "execution_count": 35,
     "metadata": {},
     "output_type": "execute_result"
    }
   ],
   "source": [
    "learn.unfreeze()\n",
    "learn.fit(lrs, n_cycle = 3, cycle_len = 1, cycle_mult = 2, best_save_name='/floyd/home/models/resnet101_optim_best_3')"
   ]
  },
  {
   "cell_type": "code",
   "execution_count": null,
   "metadata": {},
   "outputs": [],
   "source": [
    "learn.save('/floyd/home/models/resnet101_optim_5')"
   ]
  },
  {
   "cell_type": "code",
   "execution_count": 8,
   "metadata": {},
   "outputs": [
    {
     "data": {
      "application/vnd.jupyter.widget-view+json": {
       "model_id": "1d7263eb2e36485782c2f7f8ae5c4746",
       "version_major": 2,
       "version_minor": 0
      },
      "text/plain": [
       "HBox(children=(IntProgress(value=0, max=6), HTML(value='')))"
      ]
     },
     "metadata": {},
     "output_type": "display_data"
    },
    {
     "name": "stdout",
     "output_type": "stream",
     "text": [
      "                                                       \n"
     ]
    },
    {
     "name": "stderr",
     "output_type": "stream",
     "text": [
      "Downloading: \"https://download.pytorch.org/models/resnet101-5d3b4d8f.pth\" to /root/.torch/models/resnet101-5d3b4d8f.pth\n",
      "100%|██████████| 178728960/178728960 [00:08<00:00, 20973285.48it/s]\n"
     ]
    }
   ],
   "source": [
    "learn = load_model_new_kernel('/floyd/home/models/resnet101_optim_best_3')"
   ]
  },
  {
   "cell_type": "code",
   "execution_count": 11,
   "metadata": {},
   "outputs": [
    {
     "name": "stdout",
     "output_type": "stream",
     "text": [
      "                                              \n",
      "Final Accuracy: 0.9842184910283203 \n",
      "\n"
     ]
    }
   ],
   "source": [
    "log_preds, y = learn.TTA()\n",
    "probs = np.mean(np.exp(log_preds),0)\n",
    "print('\\nFinal Accuracy:', accuracy_np(probs, y), '\\n')"
   ]
  },
  {
   "cell_type": "code",
   "execution_count": 12,
   "metadata": {},
   "outputs": [
    {
     "name": "stdout",
     "output_type": "stream",
     "text": [
      "done!\n"
     ]
    }
   ],
   "source": [
    "print('done!')"
   ]
  },
  {
   "cell_type": "code",
   "execution_count": null,
   "metadata": {},
   "outputs": [],
   "source": []
  },
  {
   "cell_type": "code",
   "execution_count": null,
   "metadata": {},
   "outputs": [],
   "source": []
  },
  {
   "cell_type": "code",
   "execution_count": null,
   "metadata": {},
   "outputs": [],
   "source": []
  },
  {
   "cell_type": "code",
   "execution_count": null,
   "metadata": {},
   "outputs": [],
   "source": []
  },
  {
   "cell_type": "code",
   "execution_count": null,
   "metadata": {},
   "outputs": [],
   "source": []
  }
 ],
 "metadata": {
  "kernelspec": {
   "display_name": "Python 3",
   "language": "python",
   "name": "python3"
  },
  "language_info": {
   "codemirror_mode": {
    "name": "ipython",
    "version": 3
   },
   "file_extension": ".py",
   "mimetype": "text/x-python",
   "name": "python",
   "nbconvert_exporter": "python",
   "pygments_lexer": "ipython3",
   "version": "3.6.5"
  }
 },
 "nbformat": 4,
 "nbformat_minor": 2
}
